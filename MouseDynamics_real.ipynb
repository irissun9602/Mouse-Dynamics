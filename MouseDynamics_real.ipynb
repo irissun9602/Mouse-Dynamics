{
  "cells": [
    {
      "cell_type": "markdown",
      "metadata": {
        "id": "view-in-github",
        "colab_type": "text"
      },
      "source": [
        "<a href=\"https://colab.research.google.com/github/irissun9602/Mouse-Dynamics/blob/main/MouseDynamics_real.ipynb\" target=\"_parent\"><img src=\"https://colab.research.google.com/assets/colab-badge.svg\" alt=\"Open In Colab\"/></a>"
      ]
    },
    {
      "cell_type": "markdown",
      "metadata": {
        "id": "ojOZBliDGVT3"
      },
      "source": [
        "####Loading essential libraries"
      ]
    },
    {
      "cell_type": "code",
      "execution_count": null,
      "metadata": {
        "id": "o6tCjjDiGVT5"
      },
      "outputs": [],
      "source": [
        "import glob, os, csv\n",
        "import matplotlib.pyplot as plt\n",
        "%matplotlib inline\n",
        "import numpy as np\n",
        "import pandas as pd\n",
        "from pandas import Series, DataFrame"
      ]
    },
    {
      "cell_type": "code",
      "execution_count": null,
      "metadata": {
        "colab": {
          "base_uri": "https://localhost:8080/"
        },
        "id": "kaqiC0C1GXVR",
        "outputId": "7bfcba0e-0ae3-47d4-bd76-d4326bc7bea7"
      },
      "outputs": [
        {
          "output_type": "stream",
          "name": "stdout",
          "text": [
            "Mounted at /content/drive\n"
          ]
        }
      ],
      "source": [
        "import os\n",
        "import pandas as pd\n",
        "\n",
        "# Google Drive 마운트\n",
        "from google.colab import drive\n",
        "drive.mount('/content/drive')"
      ]
    },
    {
      "cell_type": "markdown",
      "metadata": {
        "id": "4t3TlFvVGVT6"
      },
      "source": [
        "###Understanding Input Data File"
      ]
    },
    {
      "cell_type": "markdown",
      "metadata": {
        "id": "YyXYrOVmGVT7"
      },
      "source": [
        "####Load training data of user7 and save as a dataframe.\n",
        ",Check columns and unique values which has values of type string"
      ]
    },
    {
      "cell_type": "code",
      "execution_count": null,
      "metadata": {
        "colab": {
          "base_uri": "https://localhost:8080/"
        },
        "id": "K6rjTt9peXB5",
        "outputId": "2bf7b320-c593-4942-fbe4-f220311b8002"
      },
      "outputs": [
        {
          "output_type": "stream",
          "name": "stdout",
          "text": [
            "         record timestamp  client timestamp       button             state  \\\n",
            "0                    1.29              1.29  Button.left          Released   \n",
            "1                    1.34              1.34          NaN              move   \n",
            "2                    1.34              1.34          NaN              move   \n",
            "3                    1.36              1.36          NaN              move   \n",
            "4                    1.36              1.36          NaN              move   \n",
            "...                   ...               ...          ...               ...   \n",
            "4597334            598.35            598.35       Scroll  Scrolled (0, -1)   \n",
            "4597335            598.36            598.36          NaN              move   \n",
            "4597336            598.37            598.37       Scroll  Scrolled (0, -1)   \n",
            "4597337            598.38            598.38       Scroll  Scrolled (0, -1)   \n",
            "4597338            598.39            598.39       Scroll  Scrolled (0, -1)   \n",
            "\n",
            "            x    y y_label  \n",
            "0         121  154       0  \n",
            "1         134  160       0  \n",
            "2         158  167       0  \n",
            "3         180  177       0  \n",
            "4         201  184       0  \n",
            "...       ...  ...     ...  \n",
            "4597334  1645  646      10  \n",
            "4597335  1644  646      10  \n",
            "4597336  1644  646      10  \n",
            "4597337  1644  646      10  \n",
            "4597338  1644  646      10  \n",
            "\n",
            "[4597339 rows x 7 columns]\n"
          ]
        }
      ],
      "source": [
        "# 사용자 폴더 목록\n",
        "user_folders = ['user0', 'user1', 'user2', 'user3', 'user4', 'user5', 'user6', 'user7', 'user8', 'user9', 'user10']  # 사용자 폴더를 필요에 따라 추가\n",
        "\n",
        "# 모든 CSV 파일을 저장할 빈 데이터프레임 생성\n",
        "df = pd.DataFrame()\n",
        "\n",
        "# 각 사용자 폴더에 대해 CSV 파일을 읽어와서 리스트에 추가\n",
        "for user_folder in user_folders:\n",
        "    folder_path = f'/content/drive/MyDrive/Colab Notebooks/Mouse-Dynamics-Challenge-master/Mouse-Dynamics-Challenge-master/training_files/{user_folder}/'\n",
        "\n",
        "    # 해당 폴더에 있는 모든 CSV 파일 목록 가져오기\n",
        "    csv_files = [f for f in os.listdir(folder_path) if f.endswith('.csv')]\n",
        "\n",
        "    # 각 CSV 파일을 읽어와서 리스트에 추가\n",
        "    for csv_file in csv_files:\n",
        "        file_path = os.path.join(folder_path, csv_file)\n",
        "        cs = pd.read_csv(file_path)\n",
        "        new_columns = ['record timestamp', 'client timestamp', 'button', 'state', 'x', 'y']\n",
        "        cs.columns = new_columns\n",
        "        cs['y_label'] = user_folder.replace('user', '')\n",
        "\n",
        "        df = pd.concat([df, cs], ignore_index=True)\n",
        "\n",
        "# 결과 출력\n",
        "print(df)"
      ]
    },
    {
      "cell_type": "markdown",
      "metadata": {
        "id": "bjTF36PzGVT7"
      },
      "source": [
        "####Mapping columns with string fields to integer values"
      ]
    },
    {
      "cell_type": "code",
      "execution_count": null,
      "metadata": {
        "id": "WyJ0nAxwgr8_"
      },
      "outputs": [],
      "source": [
        "df[\"button\"].fillna(0, inplace=True)"
      ]
    },
    {
      "cell_type": "code",
      "execution_count": null,
      "metadata": {
        "colab": {
          "base_uri": "https://localhost:8080/"
        },
        "id": "dURy1qf7GVT8",
        "outputId": "fbcb8138-41e7-4c4e-971e-f6207bf26655"
      },
      "outputs": [
        {
          "output_type": "stream",
          "name": "stdout",
          "text": [
            "   record timestamp  client timestamp  button  state    x    y y_label\n",
            "0              1.29              1.29       1      2  121  154       0\n",
            "1              1.34              1.34       0      0  134  160       0\n",
            "2              1.34              1.34       0      0  158  167       0\n",
            "3              1.36              1.36       0      0  180  177       0\n",
            "4              1.36              1.36       0      0  201  184       0\n",
            "5              1.37              1.37       0      0  220  191       0\n",
            "6              1.37              1.37       0      0  235  197       0\n",
            "7              1.39              1.39       0      0  250  204       0\n",
            "8              1.39              1.39       0      0  261  208       0\n",
            "9              1.40              1.40       0      0  270  212       0\n"
          ]
        }
      ],
      "source": [
        "di = {'NoButton': 0, 'Left': 1, 'Right': 2, 'Button.left': 1, 'Button.right': 2, 'Button.middle': 3, 'Scroll' : 4, 'Button.x1' :5, 'Button.x2' :6}\n",
        "dj = {'Move': 0, 'move' : 0, 'Pressed': 1, 'Released' : 2, 'Drag' : 3, 'Up' : 4, 'Down' : 5, 'Scrolled (0, 1)' : 6, 'Scrolled (0, -1)' : 7, 'Clicked' :1, 'Scrolled (0, -2)' : 8, 'Scrolled (0, 2)' : 9, 'Scrolled (0, 0)' :10, 'Scrolled (-1, 0)' :11, 'Scrolled (0, -4)' : 12, 'Scrolled (0, 4)' : 13, 'Scrolled (1, 0)' :14, 'Scrolled (0, -3)' :15, 'Scrolled (0, 3)':16, 'Scrolled (0, -6)' : 17, 'Scrolled (0, -5)' : 18, 'Scrolled (0, 8)': 19, 'Scrolled (0, 5)':20, 'Scrolled (0, 7)':21, 'Scrolled (0, 10)':22, 'Scrolled (0, 6)' :23\n",
        "      , 'Scrolled (0, 9)' : 23, 'Scrolled (2, 0)' : 24, 'Scrolled (3, 0)' : 24, 'Scrolled (4, 0)' : 24, 'Scrolled (5, 0)' : 24, 'Scrolled (0, -8)' : 25, 'Scrolled (0, -10)' : 26, 'Scrolled (0, -7)': 27}\n",
        "df[\"button\"].replace(di, inplace=True)\n",
        "df[\"state\"].replace(dj, inplace=True)\n",
        "print(df.head(10))\n",
        "# print(df.describe())"
      ]
    },
    {
      "cell_type": "code",
      "execution_count": null,
      "metadata": {
        "colab": {
          "base_uri": "https://localhost:8080/"
        },
        "id": "H6eMFn5Yj-3K",
        "outputId": "40ba066f-12d5-411f-b66d-e678bcde6965"
      },
      "outputs": [
        {
          "data": {
            "text/plain": [
              "array([ 2,  0,  1, 10,  7,  8, 11,  9,  6, 15, 17, 18, 12, 16, 13, 19, 20,\n",
              "       21, 22, 23, 24, 14, 27, 25, 26])"
            ]
          },
          "execution_count": 6,
          "metadata": {},
          "output_type": "execute_result"
        }
      ],
      "source": [
        "df['state'].unique()"
      ]
    },
    {
      "cell_type": "markdown",
      "metadata": {
        "id": "njx7OsqJGVT8"
      },
      "source": [
        "###Feature Extraction"
      ]
    },
    {
      "cell_type": "markdown",
      "metadata": {
        "id": "Y1sa62v-GVT8"
      },
      "source": [
        "####Sort data according to column 'client timestamp' then calculate time taken between mouse movements, speed of mouse movements, curvature and radius of curvature"
      ]
    },
    {
      "cell_type": "markdown",
      "metadata": {
        "id": "wyAsxn3wGVT9"
      },
      "source": [
        "Features identified :\n",
        "1. time between mouse movements\n",
        "2. mouse speed\n",
        "3. mouse movement arc curvature\n",
        "4. frequency of  mouse clicks"
      ]
    },
    {
      "cell_type": "code",
      "execution_count": null,
      "metadata": {
        "id": "avjkRU17o7vo"
      },
      "outputs": [],
      "source": [
        "# y_label을 기준으로 그룹화하여 사용자별로 계산 수행\n",
        "grouped = df.groupby('y_label')\n",
        "\n",
        "# 새로운 열에 데이터 추가\n",
        "for user_id, group_data in grouped:\n",
        "    df.loc[group_data.index, 'delta_client_time'] = group_data[\"client timestamp\"].diff(-1).abs()\n",
        "    df.loc[group_data.index, 'delta_x'] = group_data[\"x\"].diff(-1)\n",
        "    df.loc[group_data.index, 'delta_y'] = group_data[\"y\"].diff(-1)\n",
        "    df.loc[group_data.index, 'delta_dist'] = np.sqrt((group_data[\"delta_x\"])**2 + (group_data[\"delta_y\"])**2)\n",
        "    df.loc[group_data.index, 'mouse_speed'] = np.where(group_data[\"delta_client_time\"] != 0, group_data[\"delta_dist\"] / group_data[\"delta_client_time\"], np.nan)\n",
        "    df.loc[group_data.index, 'mouse_speed'] = df['mouse_speed'].abs()\n",
        "    df.loc[group_data.index, 'slope'] = np.where(group_data[\"delta_x\"] != 0, group_data[\"delta_y\"] / group_data[\"delta_x\"], np.nan)\n",
        "    df.loc[group_data.index, 'delta_slope'] = group_data[\"slope\"].diff(-1)\n",
        "    df.loc[group_data.index, 'curvature'] = np.where(group_data[\"delta_x\"] != 0, group_data[\"delta_slope\"] / group_data[\"delta_x\"], np.nan)\n",
        "    df.loc[group_data.index, 'curvature'] = df['curvature'].abs()\n"
      ]
    },
    {
      "cell_type": "code",
      "execution_count": null,
      "metadata": {
        "id": "Y_HTOFdaegvp"
      },
      "outputs": [],
      "source": [
        "user_0_data = df[df['y_label'] == '10']\n",
        "print(user_0_data)"
      ]
    },
    {
      "cell_type": "markdown",
      "metadata": {
        "id": "QLEnCHrXGVT9"
      },
      "source": [
        "Note: The curvature is important as if it has many values as zero, it means the mouse is moving in a perfectly straight line for longer periods, which is more likely a bot like behavior."
      ]
    },
    {
      "cell_type": "markdown",
      "metadata": {
        "id": "t3qGsd0cGVT9"
      },
      "source": [
        "####Frequency of mouse clicks varying with client timestamp"
      ]
    },
    {
      "cell_type": "code",
      "execution_count": null,
      "metadata": {
        "id": "ktv1q8_53OrG"
      },
      "outputs": [],
      "source": [
        "grouped = df.groupby('y_label')\n",
        "\n",
        "for user_id, group_data in grouped:\n",
        "    clicks_so_far = []\n",
        "    for index, row in group_data.iterrows():\n",
        "        if index != group_data.index[0]:\n",
        "            clicks_so_far.append(clicks_so_far[-1] + (1 if row[\"button\"] != 0 else 0))\n",
        "        else:\n",
        "            clicks_so_far.append(1 if row[\"button\"] != 0 else 0)\n",
        "\n",
        "    group_data['clicks_so_far'] = clicks_so_far\n",
        "    group_data['click_frequency'] = group_data['clicks_so_far'] / group_data['client timestamp'].replace(0, 1)\n",
        "\n",
        "    # inf 값을 0으로 처리\n",
        "    group_data['click_frequency'] = group_data['click_frequency'].replace([np.inf, -np.inf], 0)\n",
        "\n",
        "    # 변경된 데이터를 원본 DataFrame에 병합\n",
        "    df.loc[group_data.index, 'clicks_so_far'] = group_data['clicks_so_far']\n",
        "    df.loc[group_data.index, 'click_frequency'] = group_data['click_frequency']\n"
      ]
    },
    {
      "cell_type": "code",
      "execution_count": null,
      "metadata": {
        "id": "anT3NFOVrDDx"
      },
      "outputs": [],
      "source": [
        "nan_columns = df.columns[df.isna().any()].tolist()\n",
        "print(nan_columns)"
      ]
    },
    {
      "cell_type": "code",
      "execution_count": null,
      "metadata": {
        "id": "oviDjEu9r5Y5"
      },
      "outputs": [],
      "source": [
        "df[nan_columns] = df[nan_columns].fillna(0)"
      ]
    },
    {
      "cell_type": "code",
      "execution_count": null,
      "metadata": {
        "id": "j9r7bquOGVT9"
      },
      "outputs": [],
      "source": [
        "# clicks_so_far, click_frequency 계산 및 무한대 값 처리\n",
        "clicks_so_far = []\n",
        "for index, row in df.iterrows():\n",
        "    if index != 0:\n",
        "        clicks_so_far.append(clicks_so_far[-1] + (1 if row[\"button\"] != 0 else 0))\n",
        "    else:\n",
        "        clicks_so_far.append(1 if row[\"button\"] != 0 else 0)\n",
        "\n",
        "df['clicks_so_far'] = clicks_so_far\n",
        "df['click_frequency'] = df['clicks_so_far'] / df['client timestamp'].replace(0, 1)  # 0으로 나누는 것 방지\n",
        "\n",
        "# inf 값을 0으로 처리\n",
        "df['click_frequency'] = df['click_frequency'].replace([np.inf, -np.inf], 0)"
      ]
    },
    {
      "cell_type": "code",
      "execution_count": null,
      "metadata": {
        "id": "wnlPTFjeGVT9"
      },
      "outputs": [],
      "source": [
        "df1 =df"
      ]
    },
    {
      "cell_type": "code",
      "execution_count": null,
      "metadata": {
        "id": "UzWNpKB9ttSz"
      },
      "outputs": [],
      "source": [
        "stats_by_y_label = df.groupby('y_label').agg(['mean', 'std'])"
      ]
    },
    {
      "cell_type": "code",
      "execution_count": null,
      "metadata": {
        "id": "HseO3M8Puk54",
        "colab": {
          "base_uri": "https://localhost:8080/",
          "height": 506
        },
        "outputId": "95ac51fc-0372-4841-a9e3-b7e8e0004b08"
      },
      "outputs": [
        {
          "output_type": "execute_result",
          "data": {
            "text/plain": [
              "        record timestamp             client timestamp                button  \\\n",
              "                    mean         std             mean         std      mean   \n",
              "y_label                                                                       \n",
              "0             199.959638  161.357917       199.959638  161.357917  0.240130   \n",
              "1             264.071290  182.179015       264.071290  182.179015  0.012927   \n",
              "10            273.691105  184.904231       273.691105  184.904231  0.384265   \n",
              "2             291.536959  170.795615       291.536959  170.795615  0.008885   \n",
              "3             311.323853  180.808721       311.323853  180.808721  0.047345   \n",
              "4             289.687657  177.684631       289.687657  177.684631  0.036005   \n",
              "5             295.421006  184.351793       295.421006  184.351793  0.034786   \n",
              "6             275.829242  179.926624       275.829242  179.926624  0.091046   \n",
              "7             268.793679  175.487412       268.793679  175.487412  0.068299   \n",
              "8             281.306237  176.405609       281.306237  176.405609  0.185285   \n",
              "9             292.938054  176.042932       292.938054  176.042932  0.140971   \n",
              "\n",
              "                      state                      x               ...  \\\n",
              "              std      mean       std         mean          std  ...   \n",
              "y_label                                                          ...   \n",
              "0        0.932122  0.498488  1.997205  1116.706578   546.274766  ...   \n",
              "1        0.186295  0.018809  0.293514   983.960567   424.764992  ...   \n",
              "10       1.167603  0.673099  2.067426  1004.928952   557.494467  ...   \n",
              "2        0.151168  0.013898  0.246988   947.412742   426.414737  ...   \n",
              "3        0.395523  0.072827  0.665074  1599.092995  1654.476486  ...   \n",
              "4        0.293643  0.039237  0.380801   944.056944   400.604202  ...   \n",
              "5        0.296921  0.051110  0.476206  1011.987401   372.228622  ...   \n",
              "6        0.580557  0.150977  0.971405   994.731914   447.535379  ...   \n",
              "7        0.469868  0.160673  1.286365   977.985334   427.315500  ...   \n",
              "8        0.817033  0.346072  1.575547  1040.669489   428.416535  ...   \n",
              "9        0.717700  0.236841  1.217752  1000.247665   423.032755  ...   \n",
              "\n",
              "            slope          delta_slope           curvature            \\\n",
              "             mean      std        mean       std      mean       std   \n",
              "y_label                                                                \n",
              "0       -0.244778  2.31095   -0.044787  1.623075  0.378745  1.108453   \n",
              "1             NaN      NaN         NaN       NaN       NaN       NaN   \n",
              "10            NaN      NaN         NaN       NaN       NaN       NaN   \n",
              "2             NaN      NaN         NaN       NaN       NaN       NaN   \n",
              "3             NaN      NaN         NaN       NaN       NaN       NaN   \n",
              "4             NaN      NaN         NaN       NaN       NaN       NaN   \n",
              "5             NaN      NaN         NaN       NaN       NaN       NaN   \n",
              "6             NaN      NaN         NaN       NaN       NaN       NaN   \n",
              "7             NaN      NaN         NaN       NaN       NaN       NaN   \n",
              "8             NaN      NaN         NaN       NaN       NaN       NaN   \n",
              "9             NaN      NaN         NaN       NaN       NaN       NaN   \n",
              "\n",
              "        clicks_so_far              click_frequency               \n",
              "                 mean          std            mean          std  \n",
              "y_label                                                          \n",
              "0         7290.332123  3361.794472      376.291520  5149.891788  \n",
              "1         2583.358993  1452.554168      149.530401  2786.320860  \n",
              "10        6047.069950  4462.892529      329.036246  4808.949959  \n",
              "2         2714.320506  1525.357076      208.130015  3870.264113  \n",
              "3         7754.468312  2660.204885      245.232577  4955.396425  \n",
              "4         5796.257248  4073.019017      228.578128  4330.674572  \n",
              "5         1975.688456  1147.895812       48.709057   726.669610  \n",
              "6         5009.113672  3312.276414      182.183905  2940.875391  \n",
              "7         1333.165718   425.378803       42.805262   355.167662  \n",
              "8         4876.894513  3103.123004      104.435179  1437.554611  \n",
              "9         3855.995207  2549.591012       77.033987   936.930560  \n",
              "\n",
              "[11 rows x 32 columns]"
            ],
            "text/html": [
              "\n",
              "  <div id=\"df-b62336ff-5aa7-4a57-96e5-8590d8adc2f4\" class=\"colab-df-container\">\n",
              "    <div>\n",
              "<style scoped>\n",
              "    .dataframe tbody tr th:only-of-type {\n",
              "        vertical-align: middle;\n",
              "    }\n",
              "\n",
              "    .dataframe tbody tr th {\n",
              "        vertical-align: top;\n",
              "    }\n",
              "\n",
              "    .dataframe thead tr th {\n",
              "        text-align: left;\n",
              "    }\n",
              "\n",
              "    .dataframe thead tr:last-of-type th {\n",
              "        text-align: right;\n",
              "    }\n",
              "</style>\n",
              "<table border=\"1\" class=\"dataframe\">\n",
              "  <thead>\n",
              "    <tr>\n",
              "      <th></th>\n",
              "      <th colspan=\"2\" halign=\"left\">record timestamp</th>\n",
              "      <th colspan=\"2\" halign=\"left\">client timestamp</th>\n",
              "      <th colspan=\"2\" halign=\"left\">button</th>\n",
              "      <th colspan=\"2\" halign=\"left\">state</th>\n",
              "      <th colspan=\"2\" halign=\"left\">x</th>\n",
              "      <th>...</th>\n",
              "      <th colspan=\"2\" halign=\"left\">slope</th>\n",
              "      <th colspan=\"2\" halign=\"left\">delta_slope</th>\n",
              "      <th colspan=\"2\" halign=\"left\">curvature</th>\n",
              "      <th colspan=\"2\" halign=\"left\">clicks_so_far</th>\n",
              "      <th colspan=\"2\" halign=\"left\">click_frequency</th>\n",
              "    </tr>\n",
              "    <tr>\n",
              "      <th></th>\n",
              "      <th>mean</th>\n",
              "      <th>std</th>\n",
              "      <th>mean</th>\n",
              "      <th>std</th>\n",
              "      <th>mean</th>\n",
              "      <th>std</th>\n",
              "      <th>mean</th>\n",
              "      <th>std</th>\n",
              "      <th>mean</th>\n",
              "      <th>std</th>\n",
              "      <th>...</th>\n",
              "      <th>mean</th>\n",
              "      <th>std</th>\n",
              "      <th>mean</th>\n",
              "      <th>std</th>\n",
              "      <th>mean</th>\n",
              "      <th>std</th>\n",
              "      <th>mean</th>\n",
              "      <th>std</th>\n",
              "      <th>mean</th>\n",
              "      <th>std</th>\n",
              "    </tr>\n",
              "    <tr>\n",
              "      <th>y_label</th>\n",
              "      <th></th>\n",
              "      <th></th>\n",
              "      <th></th>\n",
              "      <th></th>\n",
              "      <th></th>\n",
              "      <th></th>\n",
              "      <th></th>\n",
              "      <th></th>\n",
              "      <th></th>\n",
              "      <th></th>\n",
              "      <th></th>\n",
              "      <th></th>\n",
              "      <th></th>\n",
              "      <th></th>\n",
              "      <th></th>\n",
              "      <th></th>\n",
              "      <th></th>\n",
              "      <th></th>\n",
              "      <th></th>\n",
              "      <th></th>\n",
              "      <th></th>\n",
              "    </tr>\n",
              "  </thead>\n",
              "  <tbody>\n",
              "    <tr>\n",
              "      <th>0</th>\n",
              "      <td>199.959638</td>\n",
              "      <td>161.357917</td>\n",
              "      <td>199.959638</td>\n",
              "      <td>161.357917</td>\n",
              "      <td>0.240130</td>\n",
              "      <td>0.932122</td>\n",
              "      <td>0.498488</td>\n",
              "      <td>1.997205</td>\n",
              "      <td>1116.706578</td>\n",
              "      <td>546.274766</td>\n",
              "      <td>...</td>\n",
              "      <td>-0.244778</td>\n",
              "      <td>2.31095</td>\n",
              "      <td>-0.044787</td>\n",
              "      <td>1.623075</td>\n",
              "      <td>0.378745</td>\n",
              "      <td>1.108453</td>\n",
              "      <td>7290.332123</td>\n",
              "      <td>3361.794472</td>\n",
              "      <td>376.291520</td>\n",
              "      <td>5149.891788</td>\n",
              "    </tr>\n",
              "    <tr>\n",
              "      <th>1</th>\n",
              "      <td>264.071290</td>\n",
              "      <td>182.179015</td>\n",
              "      <td>264.071290</td>\n",
              "      <td>182.179015</td>\n",
              "      <td>0.012927</td>\n",
              "      <td>0.186295</td>\n",
              "      <td>0.018809</td>\n",
              "      <td>0.293514</td>\n",
              "      <td>983.960567</td>\n",
              "      <td>424.764992</td>\n",
              "      <td>...</td>\n",
              "      <td>NaN</td>\n",
              "      <td>NaN</td>\n",
              "      <td>NaN</td>\n",
              "      <td>NaN</td>\n",
              "      <td>NaN</td>\n",
              "      <td>NaN</td>\n",
              "      <td>2583.358993</td>\n",
              "      <td>1452.554168</td>\n",
              "      <td>149.530401</td>\n",
              "      <td>2786.320860</td>\n",
              "    </tr>\n",
              "    <tr>\n",
              "      <th>10</th>\n",
              "      <td>273.691105</td>\n",
              "      <td>184.904231</td>\n",
              "      <td>273.691105</td>\n",
              "      <td>184.904231</td>\n",
              "      <td>0.384265</td>\n",
              "      <td>1.167603</td>\n",
              "      <td>0.673099</td>\n",
              "      <td>2.067426</td>\n",
              "      <td>1004.928952</td>\n",
              "      <td>557.494467</td>\n",
              "      <td>...</td>\n",
              "      <td>NaN</td>\n",
              "      <td>NaN</td>\n",
              "      <td>NaN</td>\n",
              "      <td>NaN</td>\n",
              "      <td>NaN</td>\n",
              "      <td>NaN</td>\n",
              "      <td>6047.069950</td>\n",
              "      <td>4462.892529</td>\n",
              "      <td>329.036246</td>\n",
              "      <td>4808.949959</td>\n",
              "    </tr>\n",
              "    <tr>\n",
              "      <th>2</th>\n",
              "      <td>291.536959</td>\n",
              "      <td>170.795615</td>\n",
              "      <td>291.536959</td>\n",
              "      <td>170.795615</td>\n",
              "      <td>0.008885</td>\n",
              "      <td>0.151168</td>\n",
              "      <td>0.013898</td>\n",
              "      <td>0.246988</td>\n",
              "      <td>947.412742</td>\n",
              "      <td>426.414737</td>\n",
              "      <td>...</td>\n",
              "      <td>NaN</td>\n",
              "      <td>NaN</td>\n",
              "      <td>NaN</td>\n",
              "      <td>NaN</td>\n",
              "      <td>NaN</td>\n",
              "      <td>NaN</td>\n",
              "      <td>2714.320506</td>\n",
              "      <td>1525.357076</td>\n",
              "      <td>208.130015</td>\n",
              "      <td>3870.264113</td>\n",
              "    </tr>\n",
              "    <tr>\n",
              "      <th>3</th>\n",
              "      <td>311.323853</td>\n",
              "      <td>180.808721</td>\n",
              "      <td>311.323853</td>\n",
              "      <td>180.808721</td>\n",
              "      <td>0.047345</td>\n",
              "      <td>0.395523</td>\n",
              "      <td>0.072827</td>\n",
              "      <td>0.665074</td>\n",
              "      <td>1599.092995</td>\n",
              "      <td>1654.476486</td>\n",
              "      <td>...</td>\n",
              "      <td>NaN</td>\n",
              "      <td>NaN</td>\n",
              "      <td>NaN</td>\n",
              "      <td>NaN</td>\n",
              "      <td>NaN</td>\n",
              "      <td>NaN</td>\n",
              "      <td>7754.468312</td>\n",
              "      <td>2660.204885</td>\n",
              "      <td>245.232577</td>\n",
              "      <td>4955.396425</td>\n",
              "    </tr>\n",
              "    <tr>\n",
              "      <th>4</th>\n",
              "      <td>289.687657</td>\n",
              "      <td>177.684631</td>\n",
              "      <td>289.687657</td>\n",
              "      <td>177.684631</td>\n",
              "      <td>0.036005</td>\n",
              "      <td>0.293643</td>\n",
              "      <td>0.039237</td>\n",
              "      <td>0.380801</td>\n",
              "      <td>944.056944</td>\n",
              "      <td>400.604202</td>\n",
              "      <td>...</td>\n",
              "      <td>NaN</td>\n",
              "      <td>NaN</td>\n",
              "      <td>NaN</td>\n",
              "      <td>NaN</td>\n",
              "      <td>NaN</td>\n",
              "      <td>NaN</td>\n",
              "      <td>5796.257248</td>\n",
              "      <td>4073.019017</td>\n",
              "      <td>228.578128</td>\n",
              "      <td>4330.674572</td>\n",
              "    </tr>\n",
              "    <tr>\n",
              "      <th>5</th>\n",
              "      <td>295.421006</td>\n",
              "      <td>184.351793</td>\n",
              "      <td>295.421006</td>\n",
              "      <td>184.351793</td>\n",
              "      <td>0.034786</td>\n",
              "      <td>0.296921</td>\n",
              "      <td>0.051110</td>\n",
              "      <td>0.476206</td>\n",
              "      <td>1011.987401</td>\n",
              "      <td>372.228622</td>\n",
              "      <td>...</td>\n",
              "      <td>NaN</td>\n",
              "      <td>NaN</td>\n",
              "      <td>NaN</td>\n",
              "      <td>NaN</td>\n",
              "      <td>NaN</td>\n",
              "      <td>NaN</td>\n",
              "      <td>1975.688456</td>\n",
              "      <td>1147.895812</td>\n",
              "      <td>48.709057</td>\n",
              "      <td>726.669610</td>\n",
              "    </tr>\n",
              "    <tr>\n",
              "      <th>6</th>\n",
              "      <td>275.829242</td>\n",
              "      <td>179.926624</td>\n",
              "      <td>275.829242</td>\n",
              "      <td>179.926624</td>\n",
              "      <td>0.091046</td>\n",
              "      <td>0.580557</td>\n",
              "      <td>0.150977</td>\n",
              "      <td>0.971405</td>\n",
              "      <td>994.731914</td>\n",
              "      <td>447.535379</td>\n",
              "      <td>...</td>\n",
              "      <td>NaN</td>\n",
              "      <td>NaN</td>\n",
              "      <td>NaN</td>\n",
              "      <td>NaN</td>\n",
              "      <td>NaN</td>\n",
              "      <td>NaN</td>\n",
              "      <td>5009.113672</td>\n",
              "      <td>3312.276414</td>\n",
              "      <td>182.183905</td>\n",
              "      <td>2940.875391</td>\n",
              "    </tr>\n",
              "    <tr>\n",
              "      <th>7</th>\n",
              "      <td>268.793679</td>\n",
              "      <td>175.487412</td>\n",
              "      <td>268.793679</td>\n",
              "      <td>175.487412</td>\n",
              "      <td>0.068299</td>\n",
              "      <td>0.469868</td>\n",
              "      <td>0.160673</td>\n",
              "      <td>1.286365</td>\n",
              "      <td>977.985334</td>\n",
              "      <td>427.315500</td>\n",
              "      <td>...</td>\n",
              "      <td>NaN</td>\n",
              "      <td>NaN</td>\n",
              "      <td>NaN</td>\n",
              "      <td>NaN</td>\n",
              "      <td>NaN</td>\n",
              "      <td>NaN</td>\n",
              "      <td>1333.165718</td>\n",
              "      <td>425.378803</td>\n",
              "      <td>42.805262</td>\n",
              "      <td>355.167662</td>\n",
              "    </tr>\n",
              "    <tr>\n",
              "      <th>8</th>\n",
              "      <td>281.306237</td>\n",
              "      <td>176.405609</td>\n",
              "      <td>281.306237</td>\n",
              "      <td>176.405609</td>\n",
              "      <td>0.185285</td>\n",
              "      <td>0.817033</td>\n",
              "      <td>0.346072</td>\n",
              "      <td>1.575547</td>\n",
              "      <td>1040.669489</td>\n",
              "      <td>428.416535</td>\n",
              "      <td>...</td>\n",
              "      <td>NaN</td>\n",
              "      <td>NaN</td>\n",
              "      <td>NaN</td>\n",
              "      <td>NaN</td>\n",
              "      <td>NaN</td>\n",
              "      <td>NaN</td>\n",
              "      <td>4876.894513</td>\n",
              "      <td>3103.123004</td>\n",
              "      <td>104.435179</td>\n",
              "      <td>1437.554611</td>\n",
              "    </tr>\n",
              "    <tr>\n",
              "      <th>9</th>\n",
              "      <td>292.938054</td>\n",
              "      <td>176.042932</td>\n",
              "      <td>292.938054</td>\n",
              "      <td>176.042932</td>\n",
              "      <td>0.140971</td>\n",
              "      <td>0.717700</td>\n",
              "      <td>0.236841</td>\n",
              "      <td>1.217752</td>\n",
              "      <td>1000.247665</td>\n",
              "      <td>423.032755</td>\n",
              "      <td>...</td>\n",
              "      <td>NaN</td>\n",
              "      <td>NaN</td>\n",
              "      <td>NaN</td>\n",
              "      <td>NaN</td>\n",
              "      <td>NaN</td>\n",
              "      <td>NaN</td>\n",
              "      <td>3855.995207</td>\n",
              "      <td>2549.591012</td>\n",
              "      <td>77.033987</td>\n",
              "      <td>936.930560</td>\n",
              "    </tr>\n",
              "  </tbody>\n",
              "</table>\n",
              "<p>11 rows × 32 columns</p>\n",
              "</div>\n",
              "    <div class=\"colab-df-buttons\">\n",
              "\n",
              "  <div class=\"colab-df-container\">\n",
              "    <button class=\"colab-df-convert\" onclick=\"convertToInteractive('df-b62336ff-5aa7-4a57-96e5-8590d8adc2f4')\"\n",
              "            title=\"Convert this dataframe to an interactive table.\"\n",
              "            style=\"display:none;\">\n",
              "\n",
              "  <svg xmlns=\"http://www.w3.org/2000/svg\" height=\"24px\" viewBox=\"0 -960 960 960\">\n",
              "    <path d=\"M120-120v-720h720v720H120Zm60-500h600v-160H180v160Zm220 220h160v-160H400v160Zm0 220h160v-160H400v160ZM180-400h160v-160H180v160Zm440 0h160v-160H620v160ZM180-180h160v-160H180v160Zm440 0h160v-160H620v160Z\"/>\n",
              "  </svg>\n",
              "    </button>\n",
              "\n",
              "  <style>\n",
              "    .colab-df-container {\n",
              "      display:flex;\n",
              "      gap: 12px;\n",
              "    }\n",
              "\n",
              "    .colab-df-convert {\n",
              "      background-color: #E8F0FE;\n",
              "      border: none;\n",
              "      border-radius: 50%;\n",
              "      cursor: pointer;\n",
              "      display: none;\n",
              "      fill: #1967D2;\n",
              "      height: 32px;\n",
              "      padding: 0 0 0 0;\n",
              "      width: 32px;\n",
              "    }\n",
              "\n",
              "    .colab-df-convert:hover {\n",
              "      background-color: #E2EBFA;\n",
              "      box-shadow: 0px 1px 2px rgba(60, 64, 67, 0.3), 0px 1px 3px 1px rgba(60, 64, 67, 0.15);\n",
              "      fill: #174EA6;\n",
              "    }\n",
              "\n",
              "    .colab-df-buttons div {\n",
              "      margin-bottom: 4px;\n",
              "    }\n",
              "\n",
              "    [theme=dark] .colab-df-convert {\n",
              "      background-color: #3B4455;\n",
              "      fill: #D2E3FC;\n",
              "    }\n",
              "\n",
              "    [theme=dark] .colab-df-convert:hover {\n",
              "      background-color: #434B5C;\n",
              "      box-shadow: 0px 1px 3px 1px rgba(0, 0, 0, 0.15);\n",
              "      filter: drop-shadow(0px 1px 2px rgba(0, 0, 0, 0.3));\n",
              "      fill: #FFFFFF;\n",
              "    }\n",
              "  </style>\n",
              "\n",
              "    <script>\n",
              "      const buttonEl =\n",
              "        document.querySelector('#df-b62336ff-5aa7-4a57-96e5-8590d8adc2f4 button.colab-df-convert');\n",
              "      buttonEl.style.display =\n",
              "        google.colab.kernel.accessAllowed ? 'block' : 'none';\n",
              "\n",
              "      async function convertToInteractive(key) {\n",
              "        const element = document.querySelector('#df-b62336ff-5aa7-4a57-96e5-8590d8adc2f4');\n",
              "        const dataTable =\n",
              "          await google.colab.kernel.invokeFunction('convertToInteractive',\n",
              "                                                    [key], {});\n",
              "        if (!dataTable) return;\n",
              "\n",
              "        const docLinkHtml = 'Like what you see? Visit the ' +\n",
              "          '<a target=\"_blank\" href=https://colab.research.google.com/notebooks/data_table.ipynb>data table notebook</a>'\n",
              "          + ' to learn more about interactive tables.';\n",
              "        element.innerHTML = '';\n",
              "        dataTable['output_type'] = 'display_data';\n",
              "        await google.colab.output.renderOutput(dataTable, element);\n",
              "        const docLink = document.createElement('div');\n",
              "        docLink.innerHTML = docLinkHtml;\n",
              "        element.appendChild(docLink);\n",
              "      }\n",
              "    </script>\n",
              "  </div>\n",
              "\n",
              "\n",
              "<div id=\"df-4bcf3273-5597-4592-8acd-dd5d4df3022c\">\n",
              "  <button class=\"colab-df-quickchart\" onclick=\"quickchart('df-4bcf3273-5597-4592-8acd-dd5d4df3022c')\"\n",
              "            title=\"Suggest charts\"\n",
              "            style=\"display:none;\">\n",
              "\n",
              "<svg xmlns=\"http://www.w3.org/2000/svg\" height=\"24px\"viewBox=\"0 0 24 24\"\n",
              "     width=\"24px\">\n",
              "    <g>\n",
              "        <path d=\"M19 3H5c-1.1 0-2 .9-2 2v14c0 1.1.9 2 2 2h14c1.1 0 2-.9 2-2V5c0-1.1-.9-2-2-2zM9 17H7v-7h2v7zm4 0h-2V7h2v10zm4 0h-2v-4h2v4z\"/>\n",
              "    </g>\n",
              "</svg>\n",
              "  </button>\n",
              "\n",
              "<style>\n",
              "  .colab-df-quickchart {\n",
              "      --bg-color: #E8F0FE;\n",
              "      --fill-color: #1967D2;\n",
              "      --hover-bg-color: #E2EBFA;\n",
              "      --hover-fill-color: #174EA6;\n",
              "      --disabled-fill-color: #AAA;\n",
              "      --disabled-bg-color: #DDD;\n",
              "  }\n",
              "\n",
              "  [theme=dark] .colab-df-quickchart {\n",
              "      --bg-color: #3B4455;\n",
              "      --fill-color: #D2E3FC;\n",
              "      --hover-bg-color: #434B5C;\n",
              "      --hover-fill-color: #FFFFFF;\n",
              "      --disabled-bg-color: #3B4455;\n",
              "      --disabled-fill-color: #666;\n",
              "  }\n",
              "\n",
              "  .colab-df-quickchart {\n",
              "    background-color: var(--bg-color);\n",
              "    border: none;\n",
              "    border-radius: 50%;\n",
              "    cursor: pointer;\n",
              "    display: none;\n",
              "    fill: var(--fill-color);\n",
              "    height: 32px;\n",
              "    padding: 0;\n",
              "    width: 32px;\n",
              "  }\n",
              "\n",
              "  .colab-df-quickchart:hover {\n",
              "    background-color: var(--hover-bg-color);\n",
              "    box-shadow: 0 1px 2px rgba(60, 64, 67, 0.3), 0 1px 3px 1px rgba(60, 64, 67, 0.15);\n",
              "    fill: var(--button-hover-fill-color);\n",
              "  }\n",
              "\n",
              "  .colab-df-quickchart-complete:disabled,\n",
              "  .colab-df-quickchart-complete:disabled:hover {\n",
              "    background-color: var(--disabled-bg-color);\n",
              "    fill: var(--disabled-fill-color);\n",
              "    box-shadow: none;\n",
              "  }\n",
              "\n",
              "  .colab-df-spinner {\n",
              "    border: 2px solid var(--fill-color);\n",
              "    border-color: transparent;\n",
              "    border-bottom-color: var(--fill-color);\n",
              "    animation:\n",
              "      spin 1s steps(1) infinite;\n",
              "  }\n",
              "\n",
              "  @keyframes spin {\n",
              "    0% {\n",
              "      border-color: transparent;\n",
              "      border-bottom-color: var(--fill-color);\n",
              "      border-left-color: var(--fill-color);\n",
              "    }\n",
              "    20% {\n",
              "      border-color: transparent;\n",
              "      border-left-color: var(--fill-color);\n",
              "      border-top-color: var(--fill-color);\n",
              "    }\n",
              "    30% {\n",
              "      border-color: transparent;\n",
              "      border-left-color: var(--fill-color);\n",
              "      border-top-color: var(--fill-color);\n",
              "      border-right-color: var(--fill-color);\n",
              "    }\n",
              "    40% {\n",
              "      border-color: transparent;\n",
              "      border-right-color: var(--fill-color);\n",
              "      border-top-color: var(--fill-color);\n",
              "    }\n",
              "    60% {\n",
              "      border-color: transparent;\n",
              "      border-right-color: var(--fill-color);\n",
              "    }\n",
              "    80% {\n",
              "      border-color: transparent;\n",
              "      border-right-color: var(--fill-color);\n",
              "      border-bottom-color: var(--fill-color);\n",
              "    }\n",
              "    90% {\n",
              "      border-color: transparent;\n",
              "      border-bottom-color: var(--fill-color);\n",
              "    }\n",
              "  }\n",
              "</style>\n",
              "\n",
              "  <script>\n",
              "    async function quickchart(key) {\n",
              "      const quickchartButtonEl =\n",
              "        document.querySelector('#' + key + ' button');\n",
              "      quickchartButtonEl.disabled = true;  // To prevent multiple clicks.\n",
              "      quickchartButtonEl.classList.add('colab-df-spinner');\n",
              "      try {\n",
              "        const charts = await google.colab.kernel.invokeFunction(\n",
              "            'suggestCharts', [key], {});\n",
              "      } catch (error) {\n",
              "        console.error('Error during call to suggestCharts:', error);\n",
              "      }\n",
              "      quickchartButtonEl.classList.remove('colab-df-spinner');\n",
              "      quickchartButtonEl.classList.add('colab-df-quickchart-complete');\n",
              "    }\n",
              "    (() => {\n",
              "      let quickchartButtonEl =\n",
              "        document.querySelector('#df-4bcf3273-5597-4592-8acd-dd5d4df3022c button');\n",
              "      quickchartButtonEl.style.display =\n",
              "        google.colab.kernel.accessAllowed ? 'block' : 'none';\n",
              "    })();\n",
              "  </script>\n",
              "</div>\n",
              "    </div>\n",
              "  </div>\n"
            ]
          },
          "metadata": {},
          "execution_count": 14
        }
      ],
      "source": [
        "stats_by_y_label"
      ]
    },
    {
      "cell_type": "code",
      "execution_count": null,
      "metadata": {
        "id": "eVxMQn2jxi2m",
        "colab": {
          "base_uri": "https://localhost:8080/",
          "height": 474
        },
        "outputId": "a2d95b96-4061-4737-cfab-5db8315eca52"
      },
      "outputs": [
        {
          "output_type": "display_data",
          "data": {
            "text/plain": [
              "<Figure size 1000x600 with 1 Axes>"
            ],
            "image/png": "[encoded data removed]"
          },
          "metadata": {}
        }
      ],
      "source": [
        "import matplotlib.pyplot as plt\n",
        "\n",
        "# y_label 별로 계산한 통계량을 가진 DataFrame에서 'mean'과 'std'를 구분하여 가져오기\n",
        "mean_values = stats_by_y_label['clicks_so_far']['mean']\n",
        "std_values = stats_by_y_label['clicks_so_far']['std']\n",
        "\n",
        "# y_label에 따른 평균값(mean)을 막대로 표시하고 표준편차(std)를 오차 막대로 표시\n",
        "plt.figure(figsize=(10, 6))\n",
        "mean_values.plot(kind='bar', yerr=std_values, alpha=0.7, legend=True)\n",
        "\n",
        "plt.title('Statistics by User ID)\n",
        "plt.xlabel('User ID')\n",
        "plt.ylabel('Clicks so far')\n",
        "\n",
        "plt.tight_layout()\n",
        "plt.show()\n"
      ]
    },
    {
      "cell_type": "markdown",
      "metadata": {
        "id": "IUfvApcoGVT9"
      },
      "source": [
        "####Visualizing features"
      ]
    },
    {
      "cell_type": "code",
      "execution_count": null,
      "metadata": {
        "id": "7UUcU90LOwYw"
      },
      "outputs": [],
      "source": [
        "from sklearn.model_selection import train_test_split\n",
        "from sklearn.ensemble import RandomForestClassifier\n",
        "from sklearn.metrics import accuracy_score, classification_report"
      ]
    },
    {
      "cell_type": "code",
      "execution_count": null,
      "metadata": {
        "id": "QY5vNPd-PElZ"
      },
      "outputs": [],
      "source": [
        "from sklearn.preprocessing import StandardScaler\n",
        "from sklearn.metrics import accuracy_score, classification_report, confusion_matrix"
      ]
    },
    {
      "cell_type": "code",
      "execution_count": null,
      "metadata": {
        "id": "xsoKGY2UPA-6"
      },
      "outputs": [],
      "source": [
        "# 데이터 스케일링\n",
        "#scaler = StandardScaler()\n",
        "#Scaled_X = scaler.fit_transform(X)\n"
      ]
    },
    {
      "cell_type": "code",
      "execution_count": null,
      "metadata": {
        "id": "55XLNMbx2oVn"
      },
      "outputs": [],
      "source": [
        "X = df1.drop(['y_label'], axis=1)  # Assuming 'session_id' is not a feature\n",
        "# One-hot encode categorical columns\n",
        "y = df1['y_label'].astype(int)"
      ]
    },
    {
      "cell_type": "code",
      "source": [
        "X.fillna(0, inplace=True)"
      ],
      "metadata": {
        "id": "s37cQSFcN6BN"
      },
      "execution_count": null,
      "outputs": []
    },
    {
      "cell_type": "code",
      "source": [
        "from xgboost import XGBClassifier  # XGBoostClassifier import\n",
        "\n",
        "# 데이터를 훈련 세트와 테스트 세트로 분할\n",
        "X_train, X_test, y_train, y_test = train_test_split(X, y, test_size=0.2, random_state=42)\n",
        "\n",
        "# XGBoostClassifier 모델 생성 및 훈련\n",
        "xgb_model = XGBClassifier(random_state=42)  # XGBoostClassifier로 변경\n",
        "xgb_model.fit(X_train, y_train)\n",
        "\n",
        "# 테스트 세트로 예측\n",
        "y_pred = xgb_model.predict(X_test)\n",
        "\n",
        "# 모델 성능 평가\n",
        "accuracy = accuracy_score(y_test, y_pred)\n",
        "report = classification_report(y_test, y_pred)\n",
        "conf_matrix = confusion_matrix(y_test, y_pred)\n",
        "\n",
        "# 결과 출력\n",
        "print(f\"Accuracy: {accuracy}\")\n",
        "print(\"\\nClassification Report:\")\n",
        "print(report)\n"
      ],
      "metadata": {
        "colab": {
          "base_uri": "https://localhost:8080/"
        },
        "id": "-OXwWwduIYB6",
        "outputId": "6b7ca131-72c4-4991-8d22-d00ec44728b6"
      },
      "execution_count": null,
      "outputs": [
        {
          "output_type": "stream",
          "name": "stdout",
          "text": [
            "Accuracy: 0.9675290494068309\n",
            "\n",
            "Classification Report:\n",
            "              precision    recall  f1-score   support\n",
            "\n",
            "           0       1.00      1.00      1.00     35263\n",
            "           1       0.97      0.99      0.98    144400\n",
            "           2       0.97      0.99      0.98    195666\n",
            "           3       0.98      1.00      0.99    148184\n",
            "           4       0.97      0.98      0.98    136077\n",
            "           5       0.97      0.94      0.96     42096\n",
            "           6       0.96      0.93      0.94     85627\n",
            "           7       0.93      0.90      0.91     13315\n",
            "           8       0.95      0.89      0.92     47538\n",
            "           9       0.92      0.89      0.91     39730\n",
            "          10       0.97      0.87      0.92     31572\n",
            "\n",
            "    accuracy                           0.97    919468\n",
            "   macro avg       0.96      0.94      0.95    919468\n",
            "weighted avg       0.97      0.97      0.97    919468\n",
            "\n"
          ]
        }
      ]
    },
    {
      "cell_type": "code",
      "execution_count": null,
      "metadata": {
        "colab": {
          "base_uri": "https://localhost:8080/"
        },
        "id": "FfXskYiSOuR6",
        "outputId": "79267680-b22a-4d87-c3c5-fa94919a2678"
      },
      "outputs": [
        {
          "output_type": "stream",
          "name": "stdout",
          "text": [
            "Accuracy: 0.9966881469968037\n",
            "              precision    recall  f1-score   support\n",
            "\n",
            "           0       1.00      0.99      1.00    123090\n",
            "           1       1.00      1.00      1.00    508135\n",
            "           2       1.00      1.00      1.00    685005\n",
            "           3       1.00      1.00      1.00    518508\n",
            "           4       1.00      1.00      1.00    476705\n",
            "           5       0.99      0.99      0.99    146148\n",
            "           6       0.99      1.00      1.00    299839\n",
            "           7       0.99      0.98      0.99     46327\n",
            "           8       1.00      0.99      0.99    166136\n",
            "           9       0.99      0.99      0.99    138646\n",
            "          10       1.00      0.99      0.99    109599\n",
            "\n",
            "    accuracy                           1.00   3218138\n",
            "   macro avg       1.00      0.99      0.99   3218138\n",
            "weighted avg       1.00      1.00      1.00   3218138\n",
            "\n"
          ]
        }
      ],
      "source": [
        "# Split the data into training and testing sets\n",
        "X_train, X_test, y_train, y_test = train_test_split(X, y, test_size=0.7, random_state=42)\n",
        "\n",
        "# Create a Random Forest Classifier\n",
        "rf_model = RandomForestClassifier(random_state=42)\n",
        "\n",
        "# Train the model\n",
        "rf_model.fit(X_train, y_train)\n",
        "\n",
        "# Make predictions on the test set\n",
        "y_pred = rf_model.predict(X_test)\n",
        "\n",
        "# Evaluate the model\n",
        "accuracy = accuracy_score(y_test, y_pred)\n",
        "conf_matrix = confusion_matrix(y_test, y_pred)\n",
        "print(f'Accuracy: {accuracy}')\n",
        "\n",
        "# Display classification report\n",
        "print(classification_report(y_test, y_pred))"
      ]
    },
    {
      "cell_type": "code",
      "execution_count": null,
      "metadata": {
        "id": "gHV_OXfOoAaj"
      },
      "outputs": [],
      "source": [
        "y_test"
      ]
    },
    {
      "cell_type": "code",
      "execution_count": null,
      "metadata": {
        "id": "X_MiX-0dRglD"
      },
      "outputs": [],
      "source": [
        "feature_importance = pd.Series(rf_model.feature_importances_, index=X_test.columns)\n",
        "feature_importance.nlargest(10).plot(kind='barh')\n",
        "plt.show()"
      ]
    },
    {
      "cell_type": "code",
      "execution_count": null,
      "metadata": {
        "id": "ijbcTvTERjWL"
      },
      "outputs": [],
      "source": [
        "import seaborn as sns\n",
        "\n",
        "# 실제 값과 예측 값을 데이터프레임으로 변환\n",
        "result_df = pd.DataFrame({'Actual': y_test, 'Predicted': y_pred})\n",
        "\n",
        "# Confusion Matrix 시각화\n",
        "plt.figure(figsize=(8, 6))\n",
        "sns.heatmap(conf_matrix, annot=True, fmt='d', cmap='Blues', cbar=False)\n",
        "plt.xlabel('Predicted')\n",
        "plt.ylabel('Actual')\n",
        "plt.title('Confusion Matrix')\n",
        "plt.show()\n",
        "\n",
        "# 실제 값과 예측 값 시각화\n",
        "plt.figure(figsize=(10, 6))\n",
        "sns.scatterplot(x=result_df.index, y='Actual', data=result_df, label='Actual', alpha=0.7)\n",
        "sns.scatterplot(x=result_df.index, y='Predicted', data=result_df, label='Predicted', alpha=0.7)\n",
        "plt.xlabel('Index')\n",
        "plt.ylabel('Value')\n",
        "plt.title('Actual vs Predicted')\n",
        "plt.legend()\n",
        "plt.show()"
      ]
    },
    {
      "cell_type": "code",
      "execution_count": null,
      "metadata": {
        "id": "Ins6Y-3VsqR7"
      },
      "outputs": [],
      "source": [
        "import os\n",
        "import pandas as pd\n",
        "from sklearn.cluster import KMeans\n",
        "import matplotlib.pyplot as plt\n",
        "from sklearn.preprocessing import StandardScaler\n",
        "from sklearn.decomposition import PCA\n",
        "# PCA를 사용하여 데이터 차원 축소 (2차원으로 설정)\n",
        "pca = PCA(n_components=2)\n",
        "X_pca = pca.fit_transform(X)\n",
        "\n",
        "# K-Means 클러스터링\n",
        "kmeans = KMeans(n_clusters=11, random_state=42, n_init=10)\n",
        "df1['Cluster'] = kmeans.fit_predict(X_pca)\n",
        "\n",
        "plt.figure(figsize=(10, 6))\n",
        "sns.scatterplot(x=X_pca[:, 0], y=X_pca[:, 1], hue='Cluster', data=df1, palette='viridis', s=100)\n",
        "centers = kmeans.cluster_centers_\n",
        "\n",
        "for i in range(len(centers)):\n",
        "    plt.scatter(centers[i, 0], centers[i, 1], marker='X', s=200, color='red', label=f'Centroid {i}')\n",
        "\n",
        "plt.title('K-Means Clustering with PCA')\n",
        "plt.xlabel('Principal Component 1')\n",
        "plt.ylabel('Principal Component 2')\n",
        "plt.legend()\n",
        "plt.show()\n"
      ]
    },
    {
      "cell_type": "code",
      "execution_count": null,
      "metadata": {
        "id": "3aS6D9A7f2bw"
      },
      "outputs": [],
      "source": [
        "import os\n",
        "import pandas as pd\n",
        "from sklearn.cluster import KMeans\n",
        "import matplotlib.pyplot as plt\n",
        "from sklearn.preprocessing import StandardScaler\n",
        "from sklearn.decomposition import PCA\n",
        "# PCA를 사용하여 데이터 차원 축소 (2차원으로 설정)\n",
        "pca = PCA(n_components=2)\n",
        "X_pca = pca.fit_transform(X)\n",
        "\n",
        "# K-Means 클러스터링\n",
        "kmeans = KMeans(n_clusters=11, random_state=42, n_init=10)\n",
        "df1['Cluster'] = kmeans.fit_predict(X_pca)\n",
        "\n",
        "# 시각화\n",
        "plt.figure(figsize=(10, 6))\n",
        "\n",
        "# 산점도 그리기\n",
        "sns.scatterplot(x=X_pca[:, 0], y=X_pca[:, 1], hue='Cluster', data=df1, palette='viridis', s=100)\n",
        "\n",
        "# 중심점 표시\n",
        "centers = kmeans.cluster_centers_\n",
        "plt.scatter(centers[:, 0], centers[:, 1], marker='X', s=200, color='red', label='Centroids')\n",
        "\n",
        "plt.title('K-Means Clustering with PCA')\n",
        "plt.xlabel('Principal Component 1')\n",
        "plt.ylabel('Principal Component 2')\n",
        "plt.legend()\n",
        "plt.show()"
      ]
    },
    {
      "cell_type": "code",
      "execution_count": null,
      "metadata": {
        "id": "iWoveR9KD-oP"
      },
      "outputs": [],
      "source": [
        "df1['Cluster']"
      ]
    },
    {
      "cell_type": "code",
      "execution_count": null,
      "metadata": {
        "id": "gATabi0zk-QI"
      },
      "outputs": [],
      "source": [
        "import pickle\n",
        "# 변수를 불러오기\n",
        "with open('/content/drive/My Drive/your_file.pkl', 'rb') as f:\n",
        "    result = pickle.load(f)"
      ]
    },
    {
      "cell_type": "code",
      "execution_count": null,
      "metadata": {
        "id": "QwvrKI6UlQJ0"
      },
      "outputs": [],
      "source": [
        "import pandas as pd\n",
        "\n",
        "# 예측값과 실제값을 비교하여 새로운 칼럼 추가\n",
        "mouse = pd.DataFrame({'y_test': y_test, 'y_pred': y_pred})\n",
        "mouse['Success'] = mouse.apply(lambda row: 1 if row['y_test'] == row['y_pred'] else 0, axis=1)\n",
        "\n",
        "# 결과 확인\n",
        "print(mouse)\n"
      ]
    },
    {
      "cell_type": "code",
      "execution_count": null,
      "metadata": {
        "id": "F0kkbnDXwvFI"
      },
      "outputs": [],
      "source": [
        "zero_success_rows = mouse[mouse['Success'] == 0]\n",
        "print(zero_success_rows)"
      ]
    },
    {
      "cell_type": "code",
      "execution_count": null,
      "metadata": {
        "id": "-ljgD3MLTtcm"
      },
      "outputs": [],
      "source": [
        "mouse = mouse.groupby('y_test')['Success'].mean().reset_index()"
      ]
    },
    {
      "cell_type": "code",
      "execution_count": null,
      "metadata": {
        "id": "JqQINw6MVRP7"
      },
      "outputs": [],
      "source": [
        "mouse.loc[mouse['Success'] < 1, 'Success'] = 0"
      ]
    },
    {
      "cell_type": "code",
      "execution_count": null,
      "metadata": {
        "id": "bo0Mg0rZd72Y"
      },
      "outputs": [],
      "source": [
        "import pandas as pd\n",
        "from scipy.stats import chi2\n",
        "\n",
        "# 예측 결과\n",
        "y_pred = [0, 0, 0, 0, 0, 0, 0, 0, 0, 0, 0]\n",
        "y_pred2 = [1, 1, 1, 1, 1, 1 ,1, 1, 1, 1, 1]\n",
        "\n",
        "# McNemar 검증을 위한 변수 초기화\n",
        "a, b, c, d = 0, 0, 0, 0\n",
        "\n",
        "# McNemar 검증 수행\n",
        "for pred1, pred2 in zip(y_pred, y_pred2):\n",
        "    if pred1 == pred2:\n",
        "        if pred1 == 0:\n",
        "            a += 1\n",
        "        else:\n",
        "            d += 1\n",
        "    else:\n",
        "        if pred1 == 0:\n",
        "            b += 1\n",
        "        else:\n",
        "            c += 1\n",
        "\n",
        "# McNemar 검증 통계량 계산\n",
        "X2 = ((abs(b - c) - 1) ** 2) / (b + c)\n",
        "df = 1\n",
        "p_value = chi2.sf(X2, df)\n",
        "\n",
        "# 결과를 데이터프레임으로 정리\n",
        "results = {\n",
        "    '': ['모델 1 성공', '모델 1 실패'],\n",
        "    '모델 2 성공': [d, b],\n",
        "    '모델 2 실패': [c, a]\n",
        "}\n",
        "\n",
        "df_results = pd.DataFrame(results)\n",
        "\n",
        "# McNemar 검증 통계량 및 p-value 추가\n",
        "df_results['McNemar 검증 통계량'] = [X2, '']\n",
        "df_results['p-value'] = [p_value, '']\n",
        "\n",
        "# 결과 출력\n",
        "print(df_results)\n"
      ]
    },
    {
      "cell_type": "code",
      "execution_count": null,
      "metadata": {
        "id": "DckTNU7_s7fK"
      },
      "outputs": [],
      "source": [
        "from scipy.stats import shapiro\n",
        "\n",
        "# 예시 데이터 (data라는 변수에 데이터를 할당)\n",
        "# data = [your_data_here]\n",
        "\n",
        "# Shapiro-Wilk 검정을 사용하여 정규성 검정\n",
        "stat, p = shapiro(Scaled_X)\n",
        "\n",
        "# 결과 출력\n",
        "alpha = 0.05  # 유의수준\n",
        "print(f'Statistics={stat}, p-value={p}')\n",
        "if p > alpha:\n",
        "    print('데이터는 정규분포를 따릅니다 (귀무가설 기각불가)')\n",
        "else:\n",
        "    print('데이터는 정규분포를 따르지 않습니다 (귀무가설 기각)')"
      ]
    },
    {
      "cell_type": "code",
      "execution_count": null,
      "metadata": {
        "id": "oOiafTTj3uaw"
      },
      "outputs": [],
      "source": [
        "from sklearn.metrics import confusion_matrix\n",
        "import seaborn as sns\n",
        "\n",
        "# 모델을 사용하여 테스트 데이터 예측\n",
        "y_pred = model.predict(X_test)\n",
        "\n",
        "# 모델 예측값을 클래스로 변환 (가장 높은 확률을 갖는 클래스 선택)\n",
        "predicted_classes = np.argmax(y_pred, axis=1)\n",
        "\n",
        "# 혼동 행렬 생성\n",
        "conf_matrix = confusion_matrix(y_test, predicted_classes)\n",
        "\n",
        "# 시각화\n",
        "plt.figure(figsize=(8, 6))\n",
        "sns.heatmap(conf_matrix, annot=True, fmt='d', cmap='Blues', cbar=False)\n",
        "plt.xlabel('Predicted')\n",
        "plt.ylabel('Actual')\n",
        "plt.title('Confusion Matrix')\n",
        "plt.show()\n"
      ]
    },
    {
      "cell_type": "code",
      "execution_count": null,
      "metadata": {
        "id": "VPIZrXVY2YBL"
      },
      "outputs": [],
      "source": [
        "import matplotlib.pyplot as plt\n",
        "\n",
        "# 예측 결과 시각화\n",
        "plt.figure(figsize=(12, 6))\n",
        "plt.plot(y_test, label='Actual')\n",
        "plt.plot(y_pred, label='Predicted')\n",
        "plt.xlabel('Time')\n",
        "plt.ylabel('Value')\n",
        "plt.title('Actual vs Predicted')\n",
        "plt.legend()\n",
        "plt.show()\n"
      ]
    },
    {
      "cell_type": "code",
      "execution_count": null,
      "metadata": {
        "id": "_-gobbz5245T"
      },
      "outputs": [],
      "source": [
        "y_test"
      ]
    },
    {
      "cell_type": "code",
      "execution_count": null,
      "metadata": {
        "id": "LBLq2F_y1X7s"
      },
      "outputs": [],
      "source": [
        "import seaborn as sns\n",
        "\n",
        "# 실제 값과 예측 값을 데이터프레임으로 변환\n",
        "result_df = pd.DataFrame({'Actual': y_test, 'Predicted': y_pred})\n",
        "\n",
        "# Confusion Matrix 시각화\n",
        "plt.figure(figsize=(8, 6))\n",
        "sns.heatmap(conf_matrix, annot=True, fmt='d', cmap='Blues', cbar=False)\n",
        "plt.xlabel('Predicted')\n",
        "plt.ylabel('Actual')\n",
        "plt.title('Confusion Matrix')\n",
        "plt.show()\n",
        "\n",
        "# 실제 값과 예측 값 시각화\n",
        "plt.figure(figsize=(10, 6))\n",
        "sns.scatterplot(x=result_df.index, y='Actual', data=result_df, label='Actual', alpha=0.7)\n",
        "sns.scatterplot(x=result_df.index, y='Predicted', data=result_df, label='Predicted', alpha=0.7)\n",
        "plt.xlabel('Index')\n",
        "plt.ylabel('Value')\n",
        "plt.title('Actual vs Predicted')\n",
        "plt.legend()\n",
        "plt.show()"
      ]
    },
    {
      "cell_type": "code",
      "execution_count": null,
      "metadata": {
        "id": "kX5eeBt71Ms2"
      },
      "outputs": [],
      "source": [
        "\n",
        "\n",
        "# 예측 결과 시각화\n",
        "import matplotlib.pyplot as plt\n",
        "\n",
        "plt.figure(figsize=(10, 6))\n",
        "plt.plot(y_test, label='True')\n",
        "plt.plot(predictions, label='Predicted')\n",
        "plt.title('True vs Predicted')\n",
        "plt.legend()\n",
        "plt.show()\n"
      ]
    },
    {
      "cell_type": "code",
      "execution_count": null,
      "metadata": {
        "id": "hrfNxokOGOmn"
      },
      "outputs": [],
      "source": [
        "# 중복된 값의 개수 계산\n",
        "duplicated_counts = df1.groupby(['client timestamp', 'click_frequency']).size().reset_index(name='count')\n",
        "\n",
        "plt.scatter(duplicated_counts['client timestamp'], duplicated_counts['click_frequency'], s=duplicated_counts['count']*10, alpha=0.5)\n",
        "plt.title('Variation of Click Frequency with Client Timestamp')\n",
        "plt.ylabel('Click Frequency')\n",
        "plt.xlabel('Client Timestamp')\n",
        "\n",
        "# x축 범위를 0부터 100까지로 설정\n",
        "plt.ylim(0.0, 3.0)\n",
        "plt.show()\n"
      ]
    },
    {
      "cell_type": "code",
      "execution_count": null,
      "metadata": {
        "id": "_L8537sKGycS"
      },
      "outputs": [],
      "source": [
        "df1['click_frequency'].head(30)"
      ]
    },
    {
      "cell_type": "code",
      "execution_count": null,
      "metadata": {
        "id": "eH4HQvFXjTZY"
      },
      "outputs": [],
      "source": [
        "import matplotlib.pyplot as plt\n",
        "\n",
        "plt.scatter(df1['client timestamp'], df1['click_frequency'])\n",
        "plt.title('Variation of Click Frequency with Client Timestamp')\n",
        "plt.ylabel('Click Frequency')\n",
        "plt.xlabel('Client Timestamp')\n",
        "\n",
        "# x축 범위를 0부터 100까지로 설정\n",
        "plt.xlim(0.0, 2000.0)\n",
        "plt.ylim(0.0, 3.0)\n",
        "plt.show()\n"
      ]
    },
    {
      "cell_type": "code",
      "execution_count": null,
      "metadata": {
        "id": "FpqbmWX9GVT9"
      },
      "outputs": [],
      "source": [
        "plt.scatter(df1['client timestamp'], df1['click_frequency'])\n",
        "plt.title('Variation of Click Frequency with Client Timestamp')\n",
        "plt.ylabel('Click Frequency')\n",
        "plt.xlabel('Client Timestamp')\n",
        "\n",
        "plt.show()"
      ]
    },
    {
      "cell_type": "code",
      "execution_count": null,
      "metadata": {
        "id": "qhL-Tdc5GVT-"
      },
      "outputs": [],
      "source": [
        "plt.scatter(df1['client timestamp'], df1['mouse_speed'])\n",
        "plt.title('Variation of Mouse Speed with Client Timestamp')\n",
        "plt.xlabel('Client Timestamp')\n",
        "plt.ylabel('Mouse Speed')\n",
        "plt.show()"
      ]
    },
    {
      "cell_type": "code",
      "execution_count": null,
      "metadata": {
        "id": "Y-AmIWdmGVT-"
      },
      "outputs": [],
      "source": [
        "plt.scatter(df1['client timestamp'], df1['curvature'])\n",
        "plt.title('Variation of Curvature with Client Timestamp')\n",
        "plt.xlabel('Client Timestamp')\n",
        "plt.ylabel('Curvature')\n",
        "plt.show()"
      ]
    },
    {
      "cell_type": "code",
      "execution_count": null,
      "metadata": {
        "id": "et-9BkDmHEIT"
      },
      "outputs": [],
      "source": []
    }
  ],
  "metadata": {
    "accelerator": "TPU",
    "colab": {
      "provenance": [],
      "include_colab_link": true
    },
    "kernelspec": {
      "display_name": "Python 3",
      "name": "python3"
    },
    "language_info": {
      "name": "python"
    }
  },
  "nbformat": 4,
  "nbformat_minor": 0
}