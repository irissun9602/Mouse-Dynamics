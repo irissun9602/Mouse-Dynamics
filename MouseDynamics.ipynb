{
  "nbformat": 4,
  "nbformat_minor": 0,
  "metadata": {
    "colab": {
      "provenance": [],
      "include_colab_link": true
    },
    "language_info": {
      "name": "python"
    },
    "kernelspec": {
      "name": "python3",
      "display_name": "Python 3"
    }
  },
  "cells": [
    {
      "cell_type": "markdown",
      "metadata": {
        "id": "view-in-github",
        "colab_type": "text"
      },
      "source": [
        "<a href=\"https://colab.research.google.com/github/irissun9602/Mouse-Dynamics/blob/main/MouseDynamics.ipynb\" target=\"_parent\"><img src=\"https://colab.research.google.com/assets/colab-badge.svg\" alt=\"Open In Colab\"/></a>"
      ]
    },
    {
      "cell_type": "markdown",
      "source": [
        "####Loading essential libraries"
      ],
      "metadata": {
        "id": "ojOZBliDGVT3"
      }
    },
    {
      "cell_type": "code",
      "source": [
        "import glob, os, csv\n",
        "import matplotlib.pyplot as plt\n",
        "%matplotlib inline\n",
        "import numpy as np\n",
        "import pandas as pd\n",
        "from pandas import Series, DataFrame"
      ],
      "outputs": [],
      "metadata": {
        "id": "o6tCjjDiGVT5"
      },
      "execution_count": null
    },
    {
      "cell_type": "code",
      "source": [
        "import os\n",
        "import pandas as pd\n",
        "\n",
        "# Google Drive 마운트\n",
        "from google.colab import drive\n",
        "drive.mount('/content/drive')"
      ],
      "metadata": {
        "colab": {
          "base_uri": "https://localhost:8080/"
        },
        "id": "kaqiC0C1GXVR",
        "outputId": "ea9797cc-fa84-45c8-a6e6-7db22fa2a998"
      },
      "execution_count": null,
      "outputs": [
        {
          "output_type": "stream",
          "name": "stdout",
          "text": [
            "Drive already mounted at /content/drive; to attempt to forcibly remount, call drive.mount(\"/content/drive\", force_remount=True).\n"
          ]
        }
      ]
    },
    {
      "cell_type": "markdown",
      "source": [
        "###Understanding Input Data File"
      ],
      "metadata": {
        "id": "4t3TlFvVGVT6"
      }
    },
    {
      "cell_type": "markdown",
      "source": [
        "####Load training data of user7 and save as a dataframe.\n",
        ",Check columns and unique values which has values of type string"
      ],
      "metadata": {
        "id": "YyXYrOVmGVT7"
      }
    },
    {
      "cell_type": "code",
      "source": [
        "# 사용자 폴더 목록\n",
        "user_folders = ['user7', 'user9', 'user16', 'user50']  # 사용자 폴더를 필요에 따라 추가\n",
        "\n",
        "# 모든 CSV 파일을 저장할 빈 데이터프레임 생성\n",
        "df = pd.DataFrame()\n",
        "\n",
        "# 각 사용자 폴더에 대해 CSV 파일을 읽어와서 리스트에 추가\n",
        "for user_folder in user_folders:\n",
        "    folder_path = f'/content/drive/MyDrive/Colab Notebooks/Mouse-Dynamics-Challenge-master/Mouse-Dynamics-Challenge-master/training_files/{user_folder}/'\n",
        "\n",
        "    # 해당 폴더에 있는 모든 CSV 파일 목록 가져오기\n",
        "    csv_files = [f for f in os.listdir(folder_path) if f.endswith('.csv')]\n",
        "\n",
        "    # 각 CSV 파일을 읽어와서 리스트에 추가\n",
        "    for csv_file in csv_files:\n",
        "        file_path = os.path.join(folder_path, csv_file)\n",
        "        cs = pd.read_csv(file_path)\n",
        "\n",
        "        cs['y_label'] = user_folder.replace('user', '')\n",
        "        df = pd.concat([df, cs], ignore_index=True)\n",
        "\n",
        "# 결과 출력\n",
        "print(df)"
      ],
      "metadata": {
        "colab": {
          "base_uri": "https://localhost:8080/"
        },
        "id": "K6rjTt9peXB5",
        "outputId": "77666b38-b069-4362-c8a9-19b66b66ae89"
      },
      "execution_count": null,
      "outputs": [
        {
          "output_type": "stream",
          "name": "stdout",
          "text": [
            "         record timestamp  client timestamp    button state    x    y y_label\n",
            "0                   0.000             0.000  NoButton  Move  250   46       7\n",
            "1                   0.000             0.015  NoButton  Move  252   46       7\n",
            "2                   0.000             0.031  NoButton  Move  257   46       7\n",
            "3                   0.000             0.062  NoButton  Move  268   46       7\n",
            "4                   0.138             0.078  NoButton  Move  283   46       7\n",
            "...                   ...               ...       ...   ...  ...  ...     ...\n",
            "1092001           599.990           599.990       NaN  move  526  326      50\n",
            "1092002           600.000           600.000       NaN  move  499  319      50\n",
            "1092003           600.010           600.010       NaN  move  498  319      50\n",
            "1092004           600.020           600.020       NaN  move  490  314      50\n",
            "1092005           600.030           600.030       NaN  move  479  309      50\n",
            "\n",
            "[1092006 rows x 7 columns]\n"
          ]
        }
      ]
    },
    {
      "cell_type": "code",
      "source": [
        "# 사용자 폴더 목록\n",
        "user_folders = ['user7']  # 사용자 폴더를 필요에 따라 추가\n",
        "\n",
        "# 모든 CSV 파일을 저장할 빈 데이터프레임 생성\n",
        "df = pd.DataFrame()\n",
        "df3 = pd.DataFrame()\n",
        "\n",
        "# 각 사용자 폴더에 대해 CSV 파일을 읽어와서 리스트에 추가\n",
        "for user_folder in user_folders:\n",
        "    folder_path = f'/content/drive/MyDrive/Colab Notebooks/Mouse-Dynamics-Challenge-master/Mouse-Dynamics-Challenge-master/training_files/{user_folder}/'\n",
        "\n",
        "    # 해당 폴더에 있는 모든 CSV 파일 목록 가져오기\n",
        "    csv_files = [f for f in os.listdir(folder_path) if f.endswith('.csv')]\n",
        "\n",
        "    # 각 CSV 파일을 읽어와서 리스트에 추가\n",
        "    for csv_file in csv_files:\n",
        "        file_path = os.path.join(folder_path, csv_file)\n",
        "        cs = pd.read_csv(file_path)\n",
        "\n",
        "        cs['y_label'] = user_folder.replace('user', '')\n",
        "        df = pd.concat([df, cs], ignore_index=True)\n",
        "\n",
        "# 각 사용자 폴더에 대해 CSV 파일을 읽어와서 리스트에 추가\n",
        "for user_folder in user_folders:\n",
        "    folder_path = f'/content/drive/MyDrive/Colab Notebooks/Mouse-Dynamics-Challenge-master/Mouse-Dynamics-Challenge-master/test_files/{user_folder}/'\n",
        "\n",
        "    # 해당 폴더에 있는 모든 CSV 파일 목록 가져오기\n",
        "    csv_files = [f for f in os.listdir(folder_path) if f.endswith('.csv')]\n",
        "\n",
        "    # 각 CSV 파일을 읽어와서 리스트에 추가\n",
        "    for csv_file in csv_files:\n",
        "        file_path = os.path.join(folder_path, csv_file)\n",
        "        cs = pd.read_csv(file_path)\n",
        "\n",
        "        cs['y_label'] = user_folder.replace('user', '')\n",
        "        df3 = pd.concat([df3, cs], ignore_index=True)\n",
        "\n",
        "# 결과 출력\n",
        "print(df)"
      ],
      "metadata": {
        "colab": {
          "base_uri": "https://localhost:8080/"
        },
        "id": "KsEdbHwhSBnW",
        "outputId": "8fcca431-0eb9-490c-ce4f-f0a10f54183d"
      },
      "execution_count": null,
      "outputs": [
        {
          "output_type": "stream",
          "name": "stdout",
          "text": [
            "        record timestamp  client timestamp    button     state    x    y  \\\n",
            "0                  0.000             0.000  NoButton      Move  250   46   \n",
            "1                  0.000             0.015  NoButton      Move  252   46   \n",
            "2                  0.000             0.031  NoButton      Move  257   46   \n",
            "3                  0.000             0.062  NoButton      Move  268   46   \n",
            "4                  0.138             0.078  NoButton      Move  283   46   \n",
            "...                  ...               ...       ...       ...  ...  ...   \n",
            "426055          3804.698          3804.600  NoButton      Move  101  581   \n",
            "426056          3804.698          3804.615  NoButton      Move  101  582   \n",
            "426057          3804.698          3804.631  NoButton      Move  100  582   \n",
            "426058          3804.698          3804.709      Left   Pressed  100  582   \n",
            "426059          3804.797          3804.818      Left  Released  100  582   \n",
            "\n",
            "       y_label  \n",
            "0            7  \n",
            "1            7  \n",
            "2            7  \n",
            "3            7  \n",
            "4            7  \n",
            "...        ...  \n",
            "426055       7  \n",
            "426056       7  \n",
            "426057       7  \n",
            "426058       7  \n",
            "426059       7  \n",
            "\n",
            "[426060 rows x 7 columns]\n"
          ]
        }
      ]
    },
    {
      "cell_type": "code",
      "source": [
        "df.head"
      ],
      "metadata": {
        "colab": {
          "base_uri": "https://localhost:8080/"
        },
        "id": "rWkVA9V7WsWt",
        "outputId": "fc71f0c0-eba2-41a0-c2f4-77dacb55adc5"
      },
      "execution_count": null,
      "outputs": [
        {
          "output_type": "execute_result",
          "data": {
            "text/plain": [
              "<bound method NDFrame.head of         record timestamp  client timestamp    button     state    x    y  \\\n",
              "0                  0.000             0.000  NoButton      Move  250   46   \n",
              "1                  0.000             0.015  NoButton      Move  252   46   \n",
              "2                  0.000             0.031  NoButton      Move  257   46   \n",
              "3                  0.000             0.062  NoButton      Move  268   46   \n",
              "4                  0.138             0.078  NoButton      Move  283   46   \n",
              "...                  ...               ...       ...       ...  ...  ...   \n",
              "426055          3804.698          3804.600  NoButton      Move  101  581   \n",
              "426056          3804.698          3804.615  NoButton      Move  101  582   \n",
              "426057          3804.698          3804.631  NoButton      Move  100  582   \n",
              "426058          3804.698          3804.709      Left   Pressed  100  582   \n",
              "426059          3804.797          3804.818      Left  Released  100  582   \n",
              "\n",
              "       y_label  \n",
              "0            7  \n",
              "1            7  \n",
              "2            7  \n",
              "3            7  \n",
              "4            7  \n",
              "...        ...  \n",
              "426055       7  \n",
              "426056       7  \n",
              "426057       7  \n",
              "426058       7  \n",
              "426059       7  \n",
              "\n",
              "[426060 rows x 7 columns]>"
            ]
          },
          "metadata": {},
          "execution_count": 43
        }
      ]
    },
    {
      "cell_type": "markdown",
      "source": [
        "####Mapping columns with string fields to integer values"
      ],
      "metadata": {
        "id": "bjTF36PzGVT7"
      }
    },
    {
      "cell_type": "code",
      "source": [
        "df[\"button\"].fillna(0, inplace=True)"
      ],
      "metadata": {
        "id": "WyJ0nAxwgr8_"
      },
      "execution_count": null,
      "outputs": []
    },
    {
      "cell_type": "code",
      "source": [
        "di = {'NoButton': 0, 'Left': 1, 'Right': 2, 'Button.left': 1, 'Button.right': 2, 'Scroll' : 3}\n",
        "dj = {'Move': 0, 'move' : 0, 'Pressed': 1, 'Released' : 2, 'Drag' : 3, 'Up' : 4, 'Down' : 5, 'Scrolled (0, 1)' : 6, 'Scrolled (0, -1)' : 7, 'Clicked' :1, 'Scrolled (0, -2)' : 8}\n",
        "df[\"button\"].replace(di, inplace=True)\n",
        "df[\"state\"].replace(dj, inplace=True)\n",
        "print(df.head(10))\n",
        "# print(df.describe())"
      ],
      "outputs": [
        {
          "output_type": "stream",
          "name": "stdout",
          "text": [
            "   record timestamp  client timestamp  button  state    x   y y_label\n",
            "0             0.000             0.000       0      0  250  46       7\n",
            "1             0.000             0.015       0      0  252  46       7\n",
            "2             0.000             0.031       0      0  257  46       7\n",
            "3             0.000             0.062       0      0  268  46       7\n",
            "4             0.138             0.078       0      0  283  46       7\n",
            "5             0.138             0.093       0      0  321  46       7\n",
            "6             0.138             0.109       0      0  350  48       7\n",
            "7             0.138             0.125       0      0  373  51       7\n",
            "8             0.138             0.140       0      0  398  52       7\n",
            "9             0.138             0.156       0      0  421  56       7\n"
          ]
        }
      ],
      "metadata": {
        "colab": {
          "base_uri": "https://localhost:8080/"
        },
        "id": "dURy1qf7GVT8",
        "outputId": "1b9d99e7-7aa3-4f60-bd11-ade6572c7d48"
      },
      "execution_count": null
    },
    {
      "cell_type": "markdown",
      "source": [
        "###Feature Extraction"
      ],
      "metadata": {
        "id": "njx7OsqJGVT8"
      }
    },
    {
      "cell_type": "markdown",
      "source": [
        "####Sort data according to column 'client timestamp' then calculate time taken between mouse movements, speed of mouse movements, curvature and radius of curvature"
      ],
      "metadata": {
        "id": "Y1sa62v-GVT8"
      }
    },
    {
      "cell_type": "markdown",
      "source": [
        "Features identified :\n",
        "1. time between mouse movements\n",
        "2. mouse speed\n",
        "3. mouse movement arc curvature\n",
        "4. frequency of  mouse clicks"
      ],
      "metadata": {
        "id": "wyAsxn3wGVT9"
      }
    },
    {
      "cell_type": "code",
      "source": [
        "df.sort_values(\"client timestamp\")\n",
        "df.insert(0, \"Serial_no\", range(0,len(df.index.values)))\n",
        "df[\"delta_client_time\"] = df[\"client timestamp\"].diff(-1)\n",
        "df[\"delta_client_time\"] = df[\"delta_client_time\"].abs()\n",
        "df[\"delta_x\"] = df[\"x\"].diff(-1)\n",
        "df[\"delta_y\"] = df[\"y\"].diff(-1)\n",
        "df[\"delta_dist\"] = np.sqrt( (df[\"delta_x\"])**2 + (df[\"delta_y\"])**2 )\n",
        "df[\"mouse_speed\"] = np.where(df[\"delta_client_time\"] != 0, df[\"delta_dist\"] / df[\"delta_client_time\"], np.nan)\n",
        "df[\"mouse_speed\"] = df[\"mouse_speed\"].abs()\n",
        "df[\"slope\"] = np.where(df[\"delta_x\"] != 0, df[\"delta_y\"] / df[\"delta_x\"], np.nan)\n",
        "df[\"delta_slope\"] = df[\"slope\"].diff(-1)\n",
        "df[\"curvature\"] = np.where(df[\"delta_x\"] != 0, df[\"delta_slope\"] / df[\"delta_x\"], np.nan)\n",
        "df[\"curvature\"] = df[\"curvature\"].abs()\n",
        "# df[\"radius_of_curvature\"] = 1 / df[\"curvature\"]"
      ],
      "outputs": [],
      "metadata": {
        "id": "tjFR6PFYGVT9"
      },
      "execution_count": null
    },
    {
      "cell_type": "markdown",
      "source": [
        "Note: The curvature is important as if it has many values as zero, it means the mouse is moving in a perfectly straight line for longer periods, which is more likely a bot like behavior."
      ],
      "metadata": {
        "id": "QLEnCHrXGVT9"
      }
    },
    {
      "cell_type": "markdown",
      "source": [
        "####Frequency of mouse clicks varying with client timestamp"
      ],
      "metadata": {
        "id": "t3qGsd0cGVT9"
      }
    },
    {
      "cell_type": "code",
      "source": [
        "# clicks_so_far, click_frequency 계산 및 무한대 값 처리\n",
        "clicks_so_far = []\n",
        "for index, row in df.iterrows():\n",
        "    if index != 0:\n",
        "        clicks_so_far.append(clicks_so_far[-1] + (1 if row[\"button\"] != 0 else 0))\n",
        "    else:\n",
        "        clicks_so_far.append(1 if row[\"button\"] != 0 else 0)\n",
        "\n",
        "df['clicks_so_far'] = clicks_so_far\n",
        "df['click_frequency'] = df['clicks_so_far'] / df['client timestamp'].replace(0, 1)  # 0으로 나누는 것 방지\n",
        "\n",
        "# inf 값을 0으로 처리\n",
        "df['click_frequency'] = df['click_frequency'].replace([np.inf, -np.inf], 0)"
      ],
      "outputs": [],
      "metadata": {
        "id": "j9r7bquOGVT9"
      },
      "execution_count": null
    },
    {
      "cell_type": "code",
      "source": [
        "df1 = df.dropna()\n",
        "df1.describe()\n"
      ],
      "outputs": [
        {
          "output_type": "execute_result",
          "data": {
            "text/plain": [
              "       record timestamp  client timestamp         button         state  \\\n",
              "count     426060.000000     426060.000000  426060.000000  426060.00000   \n",
              "mean        2746.734574       2746.341968       0.156924       0.36558   \n",
              "std         1946.531066       1946.120130       0.619174       1.11441   \n",
              "min            0.000000          0.000000       0.000000       0.00000   \n",
              "25%         1086.774000       1086.765750       0.000000       0.00000   \n",
              "50%         2508.319500       2508.309000       0.000000       0.00000   \n",
              "75%         3851.534000       3851.243000       0.000000       0.00000   \n",
              "max         7806.752000       7806.789000       3.000000       5.00000   \n",
              "\n",
              "                   x              y  \n",
              "count  426060.000000  426060.000000  \n",
              "mean      322.560595     350.990734  \n",
              "std       303.307137     278.655189  \n",
              "min         0.000000       0.000000  \n",
              "25%       184.000000     205.000000  \n",
              "50%       278.000000     353.000000  \n",
              "75%       406.000000     487.000000  \n",
              "max     65535.000000   65535.000000  "
            ],
            "text/html": [
              "\n",
              "  <div id=\"df-e0fc1a83-7c7d-4a73-9359-77290a03c235\" class=\"colab-df-container\">\n",
              "    <div>\n",
              "<style scoped>\n",
              "    .dataframe tbody tr th:only-of-type {\n",
              "        vertical-align: middle;\n",
              "    }\n",
              "\n",
              "    .dataframe tbody tr th {\n",
              "        vertical-align: top;\n",
              "    }\n",
              "\n",
              "    .dataframe thead th {\n",
              "        text-align: right;\n",
              "    }\n",
              "</style>\n",
              "<table border=\"1\" class=\"dataframe\">\n",
              "  <thead>\n",
              "    <tr style=\"text-align: right;\">\n",
              "      <th></th>\n",
              "      <th>record timestamp</th>\n",
              "      <th>client timestamp</th>\n",
              "      <th>button</th>\n",
              "      <th>state</th>\n",
              "      <th>x</th>\n",
              "      <th>y</th>\n",
              "    </tr>\n",
              "  </thead>\n",
              "  <tbody>\n",
              "    <tr>\n",
              "      <th>count</th>\n",
              "      <td>426060.000000</td>\n",
              "      <td>426060.000000</td>\n",
              "      <td>426060.000000</td>\n",
              "      <td>426060.00000</td>\n",
              "      <td>426060.000000</td>\n",
              "      <td>426060.000000</td>\n",
              "    </tr>\n",
              "    <tr>\n",
              "      <th>mean</th>\n",
              "      <td>2746.734574</td>\n",
              "      <td>2746.341968</td>\n",
              "      <td>0.156924</td>\n",
              "      <td>0.36558</td>\n",
              "      <td>322.560595</td>\n",
              "      <td>350.990734</td>\n",
              "    </tr>\n",
              "    <tr>\n",
              "      <th>std</th>\n",
              "      <td>1946.531066</td>\n",
              "      <td>1946.120130</td>\n",
              "      <td>0.619174</td>\n",
              "      <td>1.11441</td>\n",
              "      <td>303.307137</td>\n",
              "      <td>278.655189</td>\n",
              "    </tr>\n",
              "    <tr>\n",
              "      <th>min</th>\n",
              "      <td>0.000000</td>\n",
              "      <td>0.000000</td>\n",
              "      <td>0.000000</td>\n",
              "      <td>0.00000</td>\n",
              "      <td>0.000000</td>\n",
              "      <td>0.000000</td>\n",
              "    </tr>\n",
              "    <tr>\n",
              "      <th>25%</th>\n",
              "      <td>1086.774000</td>\n",
              "      <td>1086.765750</td>\n",
              "      <td>0.000000</td>\n",
              "      <td>0.00000</td>\n",
              "      <td>184.000000</td>\n",
              "      <td>205.000000</td>\n",
              "    </tr>\n",
              "    <tr>\n",
              "      <th>50%</th>\n",
              "      <td>2508.319500</td>\n",
              "      <td>2508.309000</td>\n",
              "      <td>0.000000</td>\n",
              "      <td>0.00000</td>\n",
              "      <td>278.000000</td>\n",
              "      <td>353.000000</td>\n",
              "    </tr>\n",
              "    <tr>\n",
              "      <th>75%</th>\n",
              "      <td>3851.534000</td>\n",
              "      <td>3851.243000</td>\n",
              "      <td>0.000000</td>\n",
              "      <td>0.00000</td>\n",
              "      <td>406.000000</td>\n",
              "      <td>487.000000</td>\n",
              "    </tr>\n",
              "    <tr>\n",
              "      <th>max</th>\n",
              "      <td>7806.752000</td>\n",
              "      <td>7806.789000</td>\n",
              "      <td>3.000000</td>\n",
              "      <td>5.00000</td>\n",
              "      <td>65535.000000</td>\n",
              "      <td>65535.000000</td>\n",
              "    </tr>\n",
              "  </tbody>\n",
              "</table>\n",
              "</div>\n",
              "    <div class=\"colab-df-buttons\">\n",
              "\n",
              "  <div class=\"colab-df-container\">\n",
              "    <button class=\"colab-df-convert\" onclick=\"convertToInteractive('df-e0fc1a83-7c7d-4a73-9359-77290a03c235')\"\n",
              "            title=\"Convert this dataframe to an interactive table.\"\n",
              "            style=\"display:none;\">\n",
              "\n",
              "  <svg xmlns=\"http://www.w3.org/2000/svg\" height=\"24px\" viewBox=\"0 -960 960 960\">\n",
              "    <path d=\"M120-120v-720h720v720H120Zm60-500h600v-160H180v160Zm220 220h160v-160H400v160Zm0 220h160v-160H400v160ZM180-400h160v-160H180v160Zm440 0h160v-160H620v160ZM180-180h160v-160H180v160Zm440 0h160v-160H620v160Z\"/>\n",
              "  </svg>\n",
              "    </button>\n",
              "\n",
              "  <style>\n",
              "    .colab-df-container {\n",
              "      display:flex;\n",
              "      gap: 12px;\n",
              "    }\n",
              "\n",
              "    .colab-df-convert {\n",
              "      background-color: #E8F0FE;\n",
              "      border: none;\n",
              "      border-radius: 50%;\n",
              "      cursor: pointer;\n",
              "      display: none;\n",
              "      fill: #1967D2;\n",
              "      height: 32px;\n",
              "      padding: 0 0 0 0;\n",
              "      width: 32px;\n",
              "    }\n",
              "\n",
              "    .colab-df-convert:hover {\n",
              "      background-color: #E2EBFA;\n",
              "      box-shadow: 0px 1px 2px rgba(60, 64, 67, 0.3), 0px 1px 3px 1px rgba(60, 64, 67, 0.15);\n",
              "      fill: #174EA6;\n",
              "    }\n",
              "\n",
              "    .colab-df-buttons div {\n",
              "      margin-bottom: 4px;\n",
              "    }\n",
              "\n",
              "    [theme=dark] .colab-df-convert {\n",
              "      background-color: #3B4455;\n",
              "      fill: #D2E3FC;\n",
              "    }\n",
              "\n",
              "    [theme=dark] .colab-df-convert:hover {\n",
              "      background-color: #434B5C;\n",
              "      box-shadow: 0px 1px 3px 1px rgba(0, 0, 0, 0.15);\n",
              "      filter: drop-shadow(0px 1px 2px rgba(0, 0, 0, 0.3));\n",
              "      fill: #FFFFFF;\n",
              "    }\n",
              "  </style>\n",
              "\n",
              "    <script>\n",
              "      const buttonEl =\n",
              "        document.querySelector('#df-e0fc1a83-7c7d-4a73-9359-77290a03c235 button.colab-df-convert');\n",
              "      buttonEl.style.display =\n",
              "        google.colab.kernel.accessAllowed ? 'block' : 'none';\n",
              "\n",
              "      async function convertToInteractive(key) {\n",
              "        const element = document.querySelector('#df-e0fc1a83-7c7d-4a73-9359-77290a03c235');\n",
              "        const dataTable =\n",
              "          await google.colab.kernel.invokeFunction('convertToInteractive',\n",
              "                                                    [key], {});\n",
              "        if (!dataTable) return;\n",
              "\n",
              "        const docLinkHtml = 'Like what you see? Visit the ' +\n",
              "          '<a target=\"_blank\" href=https://colab.research.google.com/notebooks/data_table.ipynb>data table notebook</a>'\n",
              "          + ' to learn more about interactive tables.';\n",
              "        element.innerHTML = '';\n",
              "        dataTable['output_type'] = 'display_data';\n",
              "        await google.colab.output.renderOutput(dataTable, element);\n",
              "        const docLink = document.createElement('div');\n",
              "        docLink.innerHTML = docLinkHtml;\n",
              "        element.appendChild(docLink);\n",
              "      }\n",
              "    </script>\n",
              "  </div>\n",
              "\n",
              "\n",
              "<div id=\"df-ac5b0ffe-0472-4a15-8673-a1330a2c5bb0\">\n",
              "  <button class=\"colab-df-quickchart\" onclick=\"quickchart('df-ac5b0ffe-0472-4a15-8673-a1330a2c5bb0')\"\n",
              "            title=\"Suggest charts\"\n",
              "            style=\"display:none;\">\n",
              "\n",
              "<svg xmlns=\"http://www.w3.org/2000/svg\" height=\"24px\"viewBox=\"0 0 24 24\"\n",
              "     width=\"24px\">\n",
              "    <g>\n",
              "        <path d=\"M19 3H5c-1.1 0-2 .9-2 2v14c0 1.1.9 2 2 2h14c1.1 0 2-.9 2-2V5c0-1.1-.9-2-2-2zM9 17H7v-7h2v7zm4 0h-2V7h2v10zm4 0h-2v-4h2v4z\"/>\n",
              "    </g>\n",
              "</svg>\n",
              "  </button>\n",
              "\n",
              "<style>\n",
              "  .colab-df-quickchart {\n",
              "      --bg-color: #E8F0FE;\n",
              "      --fill-color: #1967D2;\n",
              "      --hover-bg-color: #E2EBFA;\n",
              "      --hover-fill-color: #174EA6;\n",
              "      --disabled-fill-color: #AAA;\n",
              "      --disabled-bg-color: #DDD;\n",
              "  }\n",
              "\n",
              "  [theme=dark] .colab-df-quickchart {\n",
              "      --bg-color: #3B4455;\n",
              "      --fill-color: #D2E3FC;\n",
              "      --hover-bg-color: #434B5C;\n",
              "      --hover-fill-color: #FFFFFF;\n",
              "      --disabled-bg-color: #3B4455;\n",
              "      --disabled-fill-color: #666;\n",
              "  }\n",
              "\n",
              "  .colab-df-quickchart {\n",
              "    background-color: var(--bg-color);\n",
              "    border: none;\n",
              "    border-radius: 50%;\n",
              "    cursor: pointer;\n",
              "    display: none;\n",
              "    fill: var(--fill-color);\n",
              "    height: 32px;\n",
              "    padding: 0;\n",
              "    width: 32px;\n",
              "  }\n",
              "\n",
              "  .colab-df-quickchart:hover {\n",
              "    background-color: var(--hover-bg-color);\n",
              "    box-shadow: 0 1px 2px rgba(60, 64, 67, 0.3), 0 1px 3px 1px rgba(60, 64, 67, 0.15);\n",
              "    fill: var(--button-hover-fill-color);\n",
              "  }\n",
              "\n",
              "  .colab-df-quickchart-complete:disabled,\n",
              "  .colab-df-quickchart-complete:disabled:hover {\n",
              "    background-color: var(--disabled-bg-color);\n",
              "    fill: var(--disabled-fill-color);\n",
              "    box-shadow: none;\n",
              "  }\n",
              "\n",
              "  .colab-df-spinner {\n",
              "    border: 2px solid var(--fill-color);\n",
              "    border-color: transparent;\n",
              "    border-bottom-color: var(--fill-color);\n",
              "    animation:\n",
              "      spin 1s steps(1) infinite;\n",
              "  }\n",
              "\n",
              "  @keyframes spin {\n",
              "    0% {\n",
              "      border-color: transparent;\n",
              "      border-bottom-color: var(--fill-color);\n",
              "      border-left-color: var(--fill-color);\n",
              "    }\n",
              "    20% {\n",
              "      border-color: transparent;\n",
              "      border-left-color: var(--fill-color);\n",
              "      border-top-color: var(--fill-color);\n",
              "    }\n",
              "    30% {\n",
              "      border-color: transparent;\n",
              "      border-left-color: var(--fill-color);\n",
              "      border-top-color: var(--fill-color);\n",
              "      border-right-color: var(--fill-color);\n",
              "    }\n",
              "    40% {\n",
              "      border-color: transparent;\n",
              "      border-right-color: var(--fill-color);\n",
              "      border-top-color: var(--fill-color);\n",
              "    }\n",
              "    60% {\n",
              "      border-color: transparent;\n",
              "      border-right-color: var(--fill-color);\n",
              "    }\n",
              "    80% {\n",
              "      border-color: transparent;\n",
              "      border-right-color: var(--fill-color);\n",
              "      border-bottom-color: var(--fill-color);\n",
              "    }\n",
              "    90% {\n",
              "      border-color: transparent;\n",
              "      border-bottom-color: var(--fill-color);\n",
              "    }\n",
              "  }\n",
              "</style>\n",
              "\n",
              "  <script>\n",
              "    async function quickchart(key) {\n",
              "      const quickchartButtonEl =\n",
              "        document.querySelector('#' + key + ' button');\n",
              "      quickchartButtonEl.disabled = true;  // To prevent multiple clicks.\n",
              "      quickchartButtonEl.classList.add('colab-df-spinner');\n",
              "      try {\n",
              "        const charts = await google.colab.kernel.invokeFunction(\n",
              "            'suggestCharts', [key], {});\n",
              "      } catch (error) {\n",
              "        console.error('Error during call to suggestCharts:', error);\n",
              "      }\n",
              "      quickchartButtonEl.classList.remove('colab-df-spinner');\n",
              "      quickchartButtonEl.classList.add('colab-df-quickchart-complete');\n",
              "    }\n",
              "    (() => {\n",
              "      let quickchartButtonEl =\n",
              "        document.querySelector('#df-ac5b0ffe-0472-4a15-8673-a1330a2c5bb0 button');\n",
              "      quickchartButtonEl.style.display =\n",
              "        google.colab.kernel.accessAllowed ? 'block' : 'none';\n",
              "    })();\n",
              "  </script>\n",
              "</div>\n",
              "    </div>\n",
              "  </div>\n"
            ]
          },
          "metadata": {},
          "execution_count": 32
        }
      ],
      "metadata": {
        "colab": {
          "base_uri": "https://localhost:8080/",
          "height": 300
        },
        "id": "wnlPTFjeGVT9",
        "outputId": "9d8ca9eb-6004-4f0e-8ab0-6b3410bcdca9"
      },
      "execution_count": null
    },
    {
      "cell_type": "markdown",
      "source": [
        "####Visualizing features"
      ],
      "metadata": {
        "id": "IUfvApcoGVT9"
      }
    },
    {
      "cell_type": "code",
      "source": [
        "from sklearn.model_selection import train_test_split\n",
        "from sklearn.ensemble import RandomForestClassifier\n",
        "from sklearn.metrics import accuracy_score, classification_report"
      ],
      "metadata": {
        "id": "7UUcU90LOwYw"
      },
      "execution_count": null,
      "outputs": []
    },
    {
      "cell_type": "code",
      "source": [
        "X = df1.drop(['Serial_no', 'y_label'], axis=1)  # Assuming 'session_id' is not a feature\n",
        "# One-hot encode categorical columns\n",
        "y = df1['y_label']"
      ],
      "metadata": {
        "id": "mWbQEk4sObzG"
      },
      "execution_count": null,
      "outputs": []
    },
    {
      "cell_type": "code",
      "source": [
        "from sklearn.preprocessing import StandardScaler\n",
        "from sklearn.metrics import accuracy_score, classification_report, confusion_matrix"
      ],
      "metadata": {
        "id": "QY5vNPd-PElZ"
      },
      "execution_count": null,
      "outputs": []
    },
    {
      "cell_type": "code",
      "source": [
        "# 데이터 스케일링\n",
        "scaler = StandardScaler()\n",
        "Scaled_X = scaler.fit_transform(X)\n"
      ],
      "metadata": {
        "id": "xsoKGY2UPA-6"
      },
      "execution_count": null,
      "outputs": []
    },
    {
      "cell_type": "code",
      "source": [
        "# Split the data into training and testing sets\n",
        "X_train, X_test, y_train, y_test = train_test_split(Scaled_X, y, test_size=0.7, random_state=42)\n",
        "\n",
        "# Create a Random Forest Classifier\n",
        "rf_model = RandomForestClassifier(random_state=42)\n",
        "\n",
        "# Train the model\n",
        "rf_model.fit(X_train, y_train)\n",
        "\n",
        "# Make predictions on the test set\n",
        "y_pred = rf_model.predict(X_test)\n",
        "\n",
        "# Evaluate the model\n",
        "accuracy = accuracy_score(y_test, y_pred)\n",
        "conf_matrix = confusion_matrix(y_test, y_pred)\n",
        "print(f'Accuracy: {accuracy}')\n",
        "\n",
        "# Display classification report\n",
        "print(classification_report(y_test, y_pred))"
      ],
      "metadata": {
        "colab": {
          "base_uri": "https://localhost:8080/"
        },
        "id": "FfXskYiSOuR6",
        "outputId": "f0098d32-3266-4017-a3c5-7ba50c01400d"
      },
      "execution_count": null,
      "outputs": [
        {
          "output_type": "stream",
          "name": "stdout",
          "text": [
            "Accuracy: 0.9999547028767556\n",
            "              precision    recall  f1-score   support\n",
            "\n",
            "          16       1.00      1.00      1.00    203971\n",
            "           7       1.00      1.00      1.00    359914\n",
            "           9       1.00      1.00      1.00    208791\n",
            "\n",
            "    accuracy                           1.00    772676\n",
            "   macro avg       1.00      1.00      1.00    772676\n",
            "weighted avg       1.00      1.00      1.00    772676\n",
            "\n"
          ]
        }
      ]
    },
    {
      "cell_type": "code",
      "source": [
        "print(y_test[20])"
      ],
      "metadata": {
        "colab": {
          "base_uri": "https://localhost:8080/"
        },
        "id": "gHV_OXfOoAaj",
        "outputId": "4813e588-8a75-4eb7-f7aa-2ab76397f6a4"
      },
      "execution_count": null,
      "outputs": [
        {
          "output_type": "stream",
          "name": "stdout",
          "text": [
            "7\n"
          ]
        }
      ]
    },
    {
      "cell_type": "code",
      "source": [
        "feature_importance = pd.Series(rf_model.feature_importances_, index=X.columns)\n",
        "feature_importance.nlargest(10).plot(kind='barh')\n",
        "plt.show()"
      ],
      "metadata": {
        "colab": {
          "base_uri": "https://localhost:8080/",
          "height": 430
        },
        "id": "X_MiX-0dRglD",
        "outputId": "9c033c5d-210d-4a79-bb57-2a847e959842"
      },
      "execution_count": null,
      "outputs": [
        {
          "output_type": "display_data",
          "data": {
            "text/plain": [
              "<Figure size 640x480 with 1 Axes>"
            ],
            "image/png": "[encoded data removed]"
          },
          "metadata": {}
        }
      ]
    },
    {
      "cell_type": "code",
      "source": [
        "print(rf_model)"
      ],
      "metadata": {
        "colab": {
          "base_uri": "https://localhost:8080/"
        },
        "id": "SLjUupUwnEzD",
        "outputId": "27908036-c45f-4029-a2ee-3b464d17366d"
      },
      "execution_count": null,
      "outputs": [
        {
          "output_type": "stream",
          "name": "stdout",
          "text": [
            "RandomForestClassifier(random_state=42)\n"
          ]
        }
      ]
    },
    {
      "cell_type": "code",
      "source": [
        "import seaborn as sns\n",
        "\n",
        "# 실제 값과 예측 값을 데이터프레임으로 변환\n",
        "result_df = pd.DataFrame({'Actual': y_test, 'Predicted': y_pred})\n",
        "\n",
        "# Confusion Matrix 시각화\n",
        "plt.figure(figsize=(8, 6))\n",
        "sns.heatmap(conf_matrix, annot=True, fmt='d', cmap='Blues', cbar=False)\n",
        "plt.xlabel('Predicted')\n",
        "plt.ylabel('Actual')\n",
        "plt.title('Confusion Matrix')\n",
        "plt.show()\n",
        "\n",
        "# 실제 값과 예측 값 시각화\n",
        "plt.figure(figsize=(10, 6))\n",
        "sns.scatterplot(x=result_df.index, y='Actual', data=result_df, label='Actual', alpha=0.7)\n",
        "sns.scatterplot(x=result_df.index, y='Predicted', data=result_df, label='Predicted', alpha=0.7)\n",
        "plt.xlabel('Index')\n",
        "plt.ylabel('Value')\n",
        "plt.title('Actual vs Predicted')\n",
        "plt.legend()\n",
        "plt.show()"
      ],
      "metadata": {
        "colab": {
          "base_uri": "https://localhost:8080/",
          "height": 1000
        },
        "id": "ijbcTvTERjWL",
        "outputId": "6d3dfa73-24ae-40cc-94e6-5090c730f993"
      },
      "execution_count": null,
      "outputs": [
        {
          "output_type": "display_data",
          "data": {
            "text/plain": [
              "<Figure size 800x600 with 1 Axes>"
            ],
            "image/png": "[encoded data removed]"
          },
          "metadata": {}
        },
        {
          "output_type": "display_data",
          "data": {
            "text/plain": [
              "<Figure size 1000x600 with 1 Axes>"
            ],
            "image/png": "[encoded data removed]"
          },
          "metadata": {}
        }
      ]
    },
    {
      "cell_type": "code",
      "source": [
        "from scipy.stats import mannwhitneyu\n",
        "\n",
        "# 두 그룹의 데이터 (예: 그룹 A와 그룹 B의 데이터)\n",
        "data_group_a = df1['x']  # 그룹 A의 데이터\n",
        "data_group_b = df4['x']  # 그룹 B의 데이터\n",
        "\n",
        "# Mann-Whitney U 검정 수행\n",
        "statistic, p_value = mannwhitneyu(data_group_a, data_group_b)\n",
        "\n",
        "# 결과 출력\n",
        "print(\"Mann-Whitney U 검정 통계량:\", statistic)\n",
        "print(\"p-value:\", p_value)\n",
        "\n",
        "# 유의수준 0.05에서 검정\n",
        "alpha = 0.05\n",
        "if p_value < alpha:\n",
        "    print(\"유의수준 {}에서 두 그룹의 차이가 유의미합니다.\".format(alpha))\n",
        "else:\n",
        "    print(\"유의수준 {}에서 두 그룹의 차이가 유의미하지 않습니다.\".format(alpha))\n"
      ],
      "metadata": {
        "colab": {
          "base_uri": "https://localhost:8080/"
        },
        "id": "bo0Mg0rZd72Y",
        "outputId": "42478bcc-ac24-4471-b232-91e74544ce63"
      },
      "execution_count": null,
      "outputs": [
        {
          "output_type": "stream",
          "name": "stdout",
          "text": [
            "Mann-Whitney U 검정 통계량: 70721382897.5\n",
            "p-value: 0.0\n",
            "유의수준 0.05에서 두 그룹의 차이가 유의미합니다.\n"
          ]
        }
      ]
    },
    {
      "cell_type": "code",
      "source": [
        "from scipy.stats import shapiro\n",
        "\n",
        "# 예시 데이터 (data라는 변수에 데이터를 할당)\n",
        "# data = [your_data_here]\n",
        "\n",
        "# Shapiro-Wilk 검정을 사용하여 정규성 검정\n",
        "stat, p = shapiro(Scaled_X)\n",
        "\n",
        "# 결과 출력\n",
        "alpha = 0.05  # 유의수준\n",
        "print(f'Statistics={stat}, p-value={p}')\n",
        "if p > alpha:\n",
        "    print('데이터는 정규분포를 따릅니다 (귀무가설 기각불가)')\n",
        "else:\n",
        "    print('데이터는 정규분포를 따르지 않습니다 (귀무가설 기각)')"
      ],
      "metadata": {
        "id": "DckTNU7_s7fK",
        "colab": {
          "base_uri": "https://localhost:8080/"
        },
        "outputId": "74860e31-e817-45ab-9158-0bcd00b7789a"
      },
      "execution_count": null,
      "outputs": [
        {
          "output_type": "stream",
          "name": "stdout",
          "text": [
            "Statistics=0.3276243209838867, p-value=0.0\n",
            "데이터는 정규분포를 따르지 않습니다 (귀무가설 기각)\n"
          ]
        },
        {
          "output_type": "stream",
          "name": "stderr",
          "text": [
            "/usr/local/lib/python3.10/dist-packages/scipy/stats/_morestats.py:1882: UserWarning: p-value may not be accurate for N > 5000.\n",
            "  warnings.warn(\"p-value may not be accurate for N > 5000.\")\n"
          ]
        }
      ]
    },
    {
      "cell_type": "code",
      "source": [
        "result_df"
      ],
      "metadata": {
        "colab": {
          "base_uri": "https://localhost:8080/",
          "height": 423
        },
        "id": "YNevQY_ptOzL",
        "outputId": "d01be9ff-7328-4c9d-f9b4-6b2d28360a28"
      },
      "execution_count": null,
      "outputs": [
        {
          "output_type": "execute_result",
          "data": {
            "text/plain": [
              "        Actual Predicted\n",
              "1844743     16        16\n",
              "1159535      7         7\n",
              "1777609      9         9\n",
              "2002344     16        16\n",
              "817346       9         9\n",
              "...        ...       ...\n",
              "114149       7         7\n",
              "818687       9         9\n",
              "132758       7         7\n",
              "1455656      9         9\n",
              "848837      16        16\n",
              "\n",
              "[772676 rows x 2 columns]"
            ],
            "text/html": [
              "\n",
              "  <div id=\"df-4a998ea5-2e87-4c3a-b625-d399437aa38e\" class=\"colab-df-container\">\n",
              "    <div>\n",
              "<style scoped>\n",
              "    .dataframe tbody tr th:only-of-type {\n",
              "        vertical-align: middle;\n",
              "    }\n",
              "\n",
              "    .dataframe tbody tr th {\n",
              "        vertical-align: top;\n",
              "    }\n",
              "\n",
              "    .dataframe thead th {\n",
              "        text-align: right;\n",
              "    }\n",
              "</style>\n",
              "<table border=\"1\" class=\"dataframe\">\n",
              "  <thead>\n",
              "    <tr style=\"text-align: right;\">\n",
              "      <th></th>\n",
              "      <th>Actual</th>\n",
              "      <th>Predicted</th>\n",
              "    </tr>\n",
              "  </thead>\n",
              "  <tbody>\n",
              "    <tr>\n",
              "      <th>1844743</th>\n",
              "      <td>16</td>\n",
              "      <td>16</td>\n",
              "    </tr>\n",
              "    <tr>\n",
              "      <th>1159535</th>\n",
              "      <td>7</td>\n",
              "      <td>7</td>\n",
              "    </tr>\n",
              "    <tr>\n",
              "      <th>1777609</th>\n",
              "      <td>9</td>\n",
              "      <td>9</td>\n",
              "    </tr>\n",
              "    <tr>\n",
              "      <th>2002344</th>\n",
              "      <td>16</td>\n",
              "      <td>16</td>\n",
              "    </tr>\n",
              "    <tr>\n",
              "      <th>817346</th>\n",
              "      <td>9</td>\n",
              "      <td>9</td>\n",
              "    </tr>\n",
              "    <tr>\n",
              "      <th>...</th>\n",
              "      <td>...</td>\n",
              "      <td>...</td>\n",
              "    </tr>\n",
              "    <tr>\n",
              "      <th>114149</th>\n",
              "      <td>7</td>\n",
              "      <td>7</td>\n",
              "    </tr>\n",
              "    <tr>\n",
              "      <th>818687</th>\n",
              "      <td>9</td>\n",
              "      <td>9</td>\n",
              "    </tr>\n",
              "    <tr>\n",
              "      <th>132758</th>\n",
              "      <td>7</td>\n",
              "      <td>7</td>\n",
              "    </tr>\n",
              "    <tr>\n",
              "      <th>1455656</th>\n",
              "      <td>9</td>\n",
              "      <td>9</td>\n",
              "    </tr>\n",
              "    <tr>\n",
              "      <th>848837</th>\n",
              "      <td>16</td>\n",
              "      <td>16</td>\n",
              "    </tr>\n",
              "  </tbody>\n",
              "</table>\n",
              "<p>772676 rows × 2 columns</p>\n",
              "</div>\n",
              "    <div class=\"colab-df-buttons\">\n",
              "\n",
              "  <div class=\"colab-df-container\">\n",
              "    <button class=\"colab-df-convert\" onclick=\"convertToInteractive('df-4a998ea5-2e87-4c3a-b625-d399437aa38e')\"\n",
              "            title=\"Convert this dataframe to an interactive table.\"\n",
              "            style=\"display:none;\">\n",
              "\n",
              "  <svg xmlns=\"http://www.w3.org/2000/svg\" height=\"24px\" viewBox=\"0 -960 960 960\">\n",
              "    <path d=\"M120-120v-720h720v720H120Zm60-500h600v-160H180v160Zm220 220h160v-160H400v160Zm0 220h160v-160H400v160ZM180-400h160v-160H180v160Zm440 0h160v-160H620v160ZM180-180h160v-160H180v160Zm440 0h160v-160H620v160Z\"/>\n",
              "  </svg>\n",
              "    </button>\n",
              "\n",
              "  <style>\n",
              "    .colab-df-container {\n",
              "      display:flex;\n",
              "      gap: 12px;\n",
              "    }\n",
              "\n",
              "    .colab-df-convert {\n",
              "      background-color: #E8F0FE;\n",
              "      border: none;\n",
              "      border-radius: 50%;\n",
              "      cursor: pointer;\n",
              "      display: none;\n",
              "      fill: #1967D2;\n",
              "      height: 32px;\n",
              "      padding: 0 0 0 0;\n",
              "      width: 32px;\n",
              "    }\n",
              "\n",
              "    .colab-df-convert:hover {\n",
              "      background-color: #E2EBFA;\n",
              "      box-shadow: 0px 1px 2px rgba(60, 64, 67, 0.3), 0px 1px 3px 1px rgba(60, 64, 67, 0.15);\n",
              "      fill: #174EA6;\n",
              "    }\n",
              "\n",
              "    .colab-df-buttons div {\n",
              "      margin-bottom: 4px;\n",
              "    }\n",
              "\n",
              "    [theme=dark] .colab-df-convert {\n",
              "      background-color: #3B4455;\n",
              "      fill: #D2E3FC;\n",
              "    }\n",
              "\n",
              "    [theme=dark] .colab-df-convert:hover {\n",
              "      background-color: #434B5C;\n",
              "      box-shadow: 0px 1px 3px 1px rgba(0, 0, 0, 0.15);\n",
              "      filter: drop-shadow(0px 1px 2px rgba(0, 0, 0, 0.3));\n",
              "      fill: #FFFFFF;\n",
              "    }\n",
              "  </style>\n",
              "\n",
              "    <script>\n",
              "      const buttonEl =\n",
              "        document.querySelector('#df-4a998ea5-2e87-4c3a-b625-d399437aa38e button.colab-df-convert');\n",
              "      buttonEl.style.display =\n",
              "        google.colab.kernel.accessAllowed ? 'block' : 'none';\n",
              "\n",
              "      async function convertToInteractive(key) {\n",
              "        const element = document.querySelector('#df-4a998ea5-2e87-4c3a-b625-d399437aa38e');\n",
              "        const dataTable =\n",
              "          await google.colab.kernel.invokeFunction('convertToInteractive',\n",
              "                                                    [key], {});\n",
              "        if (!dataTable) return;\n",
              "\n",
              "        const docLinkHtml = 'Like what you see? Visit the ' +\n",
              "          '<a target=\"_blank\" href=https://colab.research.google.com/notebooks/data_table.ipynb>data table notebook</a>'\n",
              "          + ' to learn more about interactive tables.';\n",
              "        element.innerHTML = '';\n",
              "        dataTable['output_type'] = 'display_data';\n",
              "        await google.colab.output.renderOutput(dataTable, element);\n",
              "        const docLink = document.createElement('div');\n",
              "        docLink.innerHTML = docLinkHtml;\n",
              "        element.appendChild(docLink);\n",
              "      }\n",
              "    </script>\n",
              "  </div>\n",
              "\n",
              "\n",
              "<div id=\"df-639c29b4-62bc-4234-98f6-dc108ba417a4\">\n",
              "  <button class=\"colab-df-quickchart\" onclick=\"quickchart('df-639c29b4-62bc-4234-98f6-dc108ba417a4')\"\n",
              "            title=\"Suggest charts\"\n",
              "            style=\"display:none;\">\n",
              "\n",
              "<svg xmlns=\"http://www.w3.org/2000/svg\" height=\"24px\"viewBox=\"0 0 24 24\"\n",
              "     width=\"24px\">\n",
              "    <g>\n",
              "        <path d=\"M19 3H5c-1.1 0-2 .9-2 2v14c0 1.1.9 2 2 2h14c1.1 0 2-.9 2-2V5c0-1.1-.9-2-2-2zM9 17H7v-7h2v7zm4 0h-2V7h2v10zm4 0h-2v-4h2v4z\"/>\n",
              "    </g>\n",
              "</svg>\n",
              "  </button>\n",
              "\n",
              "<style>\n",
              "  .colab-df-quickchart {\n",
              "      --bg-color: #E8F0FE;\n",
              "      --fill-color: #1967D2;\n",
              "      --hover-bg-color: #E2EBFA;\n",
              "      --hover-fill-color: #174EA6;\n",
              "      --disabled-fill-color: #AAA;\n",
              "      --disabled-bg-color: #DDD;\n",
              "  }\n",
              "\n",
              "  [theme=dark] .colab-df-quickchart {\n",
              "      --bg-color: #3B4455;\n",
              "      --fill-color: #D2E3FC;\n",
              "      --hover-bg-color: #434B5C;\n",
              "      --hover-fill-color: #FFFFFF;\n",
              "      --disabled-bg-color: #3B4455;\n",
              "      --disabled-fill-color: #666;\n",
              "  }\n",
              "\n",
              "  .colab-df-quickchart {\n",
              "    background-color: var(--bg-color);\n",
              "    border: none;\n",
              "    border-radius: 50%;\n",
              "    cursor: pointer;\n",
              "    display: none;\n",
              "    fill: var(--fill-color);\n",
              "    height: 32px;\n",
              "    padding: 0;\n",
              "    width: 32px;\n",
              "  }\n",
              "\n",
              "  .colab-df-quickchart:hover {\n",
              "    background-color: var(--hover-bg-color);\n",
              "    box-shadow: 0 1px 2px rgba(60, 64, 67, 0.3), 0 1px 3px 1px rgba(60, 64, 67, 0.15);\n",
              "    fill: var(--button-hover-fill-color);\n",
              "  }\n",
              "\n",
              "  .colab-df-quickchart-complete:disabled,\n",
              "  .colab-df-quickchart-complete:disabled:hover {\n",
              "    background-color: var(--disabled-bg-color);\n",
              "    fill: var(--disabled-fill-color);\n",
              "    box-shadow: none;\n",
              "  }\n",
              "\n",
              "  .colab-df-spinner {\n",
              "    border: 2px solid var(--fill-color);\n",
              "    border-color: transparent;\n",
              "    border-bottom-color: var(--fill-color);\n",
              "    animation:\n",
              "      spin 1s steps(1) infinite;\n",
              "  }\n",
              "\n",
              "  @keyframes spin {\n",
              "    0% {\n",
              "      border-color: transparent;\n",
              "      border-bottom-color: var(--fill-color);\n",
              "      border-left-color: var(--fill-color);\n",
              "    }\n",
              "    20% {\n",
              "      border-color: transparent;\n",
              "      border-left-color: var(--fill-color);\n",
              "      border-top-color: var(--fill-color);\n",
              "    }\n",
              "    30% {\n",
              "      border-color: transparent;\n",
              "      border-left-color: var(--fill-color);\n",
              "      border-top-color: var(--fill-color);\n",
              "      border-right-color: var(--fill-color);\n",
              "    }\n",
              "    40% {\n",
              "      border-color: transparent;\n",
              "      border-right-color: var(--fill-color);\n",
              "      border-top-color: var(--fill-color);\n",
              "    }\n",
              "    60% {\n",
              "      border-color: transparent;\n",
              "      border-right-color: var(--fill-color);\n",
              "    }\n",
              "    80% {\n",
              "      border-color: transparent;\n",
              "      border-right-color: var(--fill-color);\n",
              "      border-bottom-color: var(--fill-color);\n",
              "    }\n",
              "    90% {\n",
              "      border-color: transparent;\n",
              "      border-bottom-color: var(--fill-color);\n",
              "    }\n",
              "  }\n",
              "</style>\n",
              "\n",
              "  <script>\n",
              "    async function quickchart(key) {\n",
              "      const quickchartButtonEl =\n",
              "        document.querySelector('#' + key + ' button');\n",
              "      quickchartButtonEl.disabled = true;  // To prevent multiple clicks.\n",
              "      quickchartButtonEl.classList.add('colab-df-spinner');\n",
              "      try {\n",
              "        const charts = await google.colab.kernel.invokeFunction(\n",
              "            'suggestCharts', [key], {});\n",
              "      } catch (error) {\n",
              "        console.error('Error during call to suggestCharts:', error);\n",
              "      }\n",
              "      quickchartButtonEl.classList.remove('colab-df-spinner');\n",
              "      quickchartButtonEl.classList.add('colab-df-quickchart-complete');\n",
              "    }\n",
              "    (() => {\n",
              "      let quickchartButtonEl =\n",
              "        document.querySelector('#df-639c29b4-62bc-4234-98f6-dc108ba417a4 button');\n",
              "      quickchartButtonEl.style.display =\n",
              "        google.colab.kernel.accessAllowed ? 'block' : 'none';\n",
              "    })();\n",
              "  </script>\n",
              "</div>\n",
              "    </div>\n",
              "  </div>\n"
            ]
          },
          "metadata": {},
          "execution_count": 22
        }
      ]
    },
    {
      "cell_type": "code",
      "source": [
        "from sklearn.metrics import confusion_matrix\n",
        "import seaborn as sns\n",
        "\n",
        "# 모델을 사용하여 테스트 데이터 예측\n",
        "y_pred = model.predict(X_test)\n",
        "\n",
        "# 모델 예측값을 클래스로 변환 (가장 높은 확률을 갖는 클래스 선택)\n",
        "predicted_classes = np.argmax(y_pred, axis=1)\n",
        "\n",
        "# 혼동 행렬 생성\n",
        "conf_matrix = confusion_matrix(y_test, predicted_classes)\n",
        "\n",
        "# 시각화\n",
        "plt.figure(figsize=(8, 6))\n",
        "sns.heatmap(conf_matrix, annot=True, fmt='d', cmap='Blues', cbar=False)\n",
        "plt.xlabel('Predicted')\n",
        "plt.ylabel('Actual')\n",
        "plt.title('Confusion Matrix')\n",
        "plt.show()\n"
      ],
      "metadata": {
        "colab": {
          "base_uri": "https://localhost:8080/",
          "height": 258
        },
        "id": "oOiafTTj3uaw",
        "outputId": "6b7ec4d3-ba13-427a-f549-eb04f5d67916"
      },
      "execution_count": null,
      "outputs": [
        {
          "output_type": "error",
          "ename": "NameError",
          "evalue": "ignored",
          "traceback": [
            "\u001b[0;31m---------------------------------------------------------------------------\u001b[0m",
            "\u001b[0;31mNameError\u001b[0m                                 Traceback (most recent call last)",
            "\u001b[0;32m<ipython-input-23-35f40238efc6>\u001b[0m in \u001b[0;36m<cell line: 5>\u001b[0;34m()\u001b[0m\n\u001b[1;32m      3\u001b[0m \u001b[0;34m\u001b[0m\u001b[0m\n\u001b[1;32m      4\u001b[0m \u001b[0;31m# 모델을 사용하여 테스트 데이터 예측\u001b[0m\u001b[0;34m\u001b[0m\u001b[0;34m\u001b[0m\u001b[0m\n\u001b[0;32m----> 5\u001b[0;31m \u001b[0my_pred\u001b[0m \u001b[0;34m=\u001b[0m \u001b[0mmodel\u001b[0m\u001b[0;34m.\u001b[0m\u001b[0mpredict\u001b[0m\u001b[0;34m(\u001b[0m\u001b[0mX_test\u001b[0m\u001b[0;34m)\u001b[0m\u001b[0;34m\u001b[0m\u001b[0;34m\u001b[0m\u001b[0m\n\u001b[0m\u001b[1;32m      6\u001b[0m \u001b[0;34m\u001b[0m\u001b[0m\n\u001b[1;32m      7\u001b[0m \u001b[0;31m# 모델 예측값을 클래스로 변환 (가장 높은 확률을 갖는 클래스 선택)\u001b[0m\u001b[0;34m\u001b[0m\u001b[0;34m\u001b[0m\u001b[0m\n",
            "\u001b[0;31mNameError\u001b[0m: name 'model' is not defined"
          ]
        }
      ]
    },
    {
      "cell_type": "code",
      "source": [
        "import matplotlib.pyplot as plt\n",
        "\n",
        "# 예측 결과 시각화\n",
        "plt.figure(figsize=(12, 6))\n",
        "plt.plot(y_test, label='Actual')\n",
        "plt.plot(y_pred, label='Predicted')\n",
        "plt.xlabel('Time')\n",
        "plt.ylabel('Value')\n",
        "plt.title('Actual vs Predicted')\n",
        "plt.legend()\n",
        "plt.show()\n"
      ],
      "metadata": {
        "id": "VPIZrXVY2YBL"
      },
      "execution_count": null,
      "outputs": []
    },
    {
      "cell_type": "code",
      "source": [
        "y_test"
      ],
      "metadata": {
        "id": "_-gobbz5245T"
      },
      "execution_count": null,
      "outputs": []
    },
    {
      "cell_type": "code",
      "source": [
        "import seaborn as sns\n",
        "\n",
        "# 실제 값과 예측 값을 데이터프레임으로 변환\n",
        "result_df = pd.DataFrame({'Actual': y_test, 'Predicted': y_pred})\n",
        "\n",
        "# Confusion Matrix 시각화\n",
        "plt.figure(figsize=(8, 6))\n",
        "sns.heatmap(conf_matrix, annot=True, fmt='d', cmap='Blues', cbar=False)\n",
        "plt.xlabel('Predicted')\n",
        "plt.ylabel('Actual')\n",
        "plt.title('Confusion Matrix')\n",
        "plt.show()\n",
        "\n",
        "# 실제 값과 예측 값 시각화\n",
        "plt.figure(figsize=(10, 6))\n",
        "sns.scatterplot(x=result_df.index, y='Actual', data=result_df, label='Actual', alpha=0.7)\n",
        "sns.scatterplot(x=result_df.index, y='Predicted', data=result_df, label='Predicted', alpha=0.7)\n",
        "plt.xlabel('Index')\n",
        "plt.ylabel('Value')\n",
        "plt.title('Actual vs Predicted')\n",
        "plt.legend()\n",
        "plt.show()"
      ],
      "metadata": {
        "id": "LBLq2F_y1X7s"
      },
      "execution_count": null,
      "outputs": []
    },
    {
      "cell_type": "code",
      "source": [
        "\n",
        "\n",
        "# 예측 결과 시각화\n",
        "import matplotlib.pyplot as plt\n",
        "\n",
        "plt.figure(figsize=(10, 6))\n",
        "plt.plot(y_test, label='True')\n",
        "plt.plot(predictions, label='Predicted')\n",
        "plt.title('True vs Predicted')\n",
        "plt.legend()\n",
        "plt.show()\n"
      ],
      "metadata": {
        "id": "kX5eeBt71Ms2"
      },
      "execution_count": null,
      "outputs": []
    },
    {
      "cell_type": "code",
      "source": [
        "import matplotlib.pyplot as plt\n",
        "\n",
        "plt.scatter(df1['client timestamp'], df1['click_frequency'])\n",
        "plt.title('Variation of Click Frequency with Client Timestamp')\n",
        "plt.ylabel('Click Frequency')\n",
        "plt.xlabel('Client Timestamp')\n",
        "\n",
        "# x축 범위를 0부터 100까지로 설정\n",
        "plt.xlim(0.0, 2000.0)\n",
        "plt.ylim(0.0, 3.0)\n",
        "plt.show()\n"
      ],
      "metadata": {
        "id": "eH4HQvFXjTZY"
      },
      "execution_count": null,
      "outputs": []
    },
    {
      "cell_type": "code",
      "source": [
        "plt.scatter(df1['client timestamp'], df1['click_frequency'])\n",
        "plt.title('Variation of Click Frequency with Client Timestamp')\n",
        "plt.ylabel('Click Frequency')\n",
        "plt.xlabel('Client Timestamp')\n",
        "plt.show()"
      ],
      "outputs": [],
      "metadata": {
        "id": "FpqbmWX9GVT9"
      },
      "execution_count": null
    },
    {
      "cell_type": "code",
      "source": [
        "plt.scatter(df1['client timestamp'], df1['mouse_speed'])\n",
        "plt.title('Variation of Mouse Speed with Client Timestamp')\n",
        "plt.xlabel('Client Timestamp')\n",
        "plt.ylabel('Mouse Speed')\n",
        "plt.show()"
      ],
      "outputs": [],
      "metadata": {
        "id": "qhL-Tdc5GVT-"
      },
      "execution_count": null
    },
    {
      "cell_type": "code",
      "source": [
        "plt.scatter(df1['client timestamp'], df1['curvature'])\n",
        "plt.title('Variation of Curvature with Client Timestamp')\n",
        "plt.xlabel('Client Timestamp')\n",
        "plt.ylabel('Curvature')\n",
        "plt.show()"
      ],
      "outputs": [],
      "metadata": {
        "id": "Y-AmIWdmGVT-"
      },
      "execution_count": null
    },
    {
      "cell_type": "code",
      "source": [],
      "metadata": {
        "id": "et-9BkDmHEIT"
      },
      "execution_count": null,
      "outputs": []
    }
  ]
}